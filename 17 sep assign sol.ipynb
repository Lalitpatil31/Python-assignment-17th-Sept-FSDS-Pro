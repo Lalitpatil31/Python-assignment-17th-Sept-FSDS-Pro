{
 "cells": [
  {
   "cell_type": "markdown",
   "id": "6d9fee5f",
   "metadata": {},
   "source": [
    "- Write a Python program to print numbers from 1 to 10 using a for loop.\n",
    "- Explain the difference between a for loop and a while loop in Python.\n",
    "- Write a Python program to calculate the sum of all numbers from 1 to 100 using a for loop.\n",
    "- How do you iterate through a list using a for loop in Python?\n",
    "- Write a Python program to find the product of all elements in a list using a for loop.\n",
    "- Create a Python program that prints all even numbers from 1 to 20 using a for loop.\n",
    "- Write a Python program that calculates the factorial of a number using a for loop.\n",
    "- How can you iterate through the characters of a string using a for loop in Python?\n",
    "- Write a Python program to find the largest number in a list using a for loop.\n",
    "- Create a Python program that prints the Fibonacci sequence up to a specified limit using a for loop.\n"
   ]
  },
  {
   "cell_type": "code",
   "execution_count": 4,
   "id": "d3ac4a01",
   "metadata": {},
   "outputs": [
    {
     "name": "stdout",
     "output_type": "stream",
     "text": [
      "1\n",
      "2\n",
      "3\n",
      "4\n",
      "5\n",
      "6\n",
      "7\n",
      "8\n",
      "9\n",
      "10\n"
     ]
    },
    {
     "data": {
      "text/plain": [
       "'Steps:\\nrange(1, 11) generates numbers from 1 to 10 (inclusive start, exclusive end).\\nThe for loop iterates over each number and prints it.\\n'"
      ]
     },
     "execution_count": 4,
     "metadata": {},
     "output_type": "execute_result"
    }
   ],
   "source": [
    "#Q-1)\n",
    "for i in range(1, 11):\n",
    "    print(i)\n",
    "\"\"\"Steps:\n",
    "range(1, 11) generates numbers from 1 to 10 (inclusive start, exclusive end).\n",
    "The for loop iterates over each number and prints it.\n",
    "\"\"\""
   ]
  },
  {
   "cell_type": "code",
   "execution_count": 7,
   "id": "fd080389",
   "metadata": {},
   "outputs": [
    {
     "name": "stdout",
     "output_type": "stream",
     "text": [
      "0\n",
      "1\n",
      "2\n",
      "3\n",
      "4\n",
      "0\n",
      "1\n",
      "2\n",
      "3\n",
      "4\n"
     ]
    },
    {
     "data": {
      "text/plain": [
       "'Difference between a for loop and a while loop\\nfor loop: Used when you know the number of iterations in advance. It iterates over a sequence (e.g., list, tuple, string, or range).\\n\\nwhile loop: Used when iterations depend on a condition. It continues until the condition becomes False.'"
      ]
     },
     "execution_count": 7,
     "metadata": {},
     "output_type": "execute_result"
    }
   ],
   "source": [
    "#Q-2)\n",
    "# for loop (fixed iterations)\n",
    "for i in range(5):\n",
    "    print(i)\n",
    "\n",
    "# while loop (condition-based)\n",
    "count = 0\n",
    "while count < 5:\n",
    "    print(count)\n",
    "    count += 1\n",
    "\n",
    "\"\"\"Difference between a for loop and a while loop\n",
    "for loop: Used when you know the number of iterations in advance. It iterates over a sequence (e.g., list, tuple, string, or range).\n",
    "\n",
    "while loop: Used when iterations depend on a condition. It continues until the condition becomes False.\"\"\""
   ]
  },
  {
   "cell_type": "code",
   "execution_count": 9,
   "id": "f881ef63",
   "metadata": {},
   "outputs": [
    {
     "name": "stdout",
     "output_type": "stream",
     "text": [
      "Sum: 5050\n"
     ]
    },
    {
     "data": {
      "text/plain": [
       "'Steps:\\n\\nInitialize total to 0.\\n\\nLoop through numbers 1 to 100 using range(1, 101).\\n\\nAdd each number to total.\\n\\nPrint the result.'"
      ]
     },
     "execution_count": 9,
     "metadata": {},
     "output_type": "execute_result"
    }
   ],
   "source": [
    "#Q-3) Calculate the sum of numbers from 1 to 100 using a for loop python\n",
    "total = 0\n",
    "for num in range(1, 101):\n",
    "    total += num\n",
    "print(\"Sum:\", total)\n",
    "\"\"\"Steps:\n",
    "\n",
    "Initialize total to 0.\n",
    "\n",
    "Loop through numbers 1 to 100 using range(1, 101).\n",
    "\n",
    "Add each number to total.\n",
    "\n",
    "Print the result.\"\"\""
   ]
  },
  {
   "cell_type": "code",
   "execution_count": 10,
   "id": "d746c2bd",
   "metadata": {},
   "outputs": [
    {
     "name": "stdout",
     "output_type": "stream",
     "text": [
      "apple\n",
      "banana\n",
      "cherry\n"
     ]
    },
    {
     "data": {
      "text/plain": [
       "'\\nSteps:\\n\\nDefine a list fruits.\\n\\nThe for loop iterates over each element in fruits.\\n\\nEach element is printed.'"
      ]
     },
     "execution_count": 10,
     "metadata": {},
     "output_type": "execute_result"
    }
   ],
   "source": [
    "#Q-4)Iterate through a list using a for loop\n",
    "fruits = [\"apple\", \"banana\", \"cherry\"]\n",
    "for fruit in fruits:\n",
    "    print(fruit)\n",
    "\"\"\"\n",
    "Steps:\n",
    "\n",
    "Define a list fruits.\n",
    "\n",
    "The for loop iterates over each element in fruits.\n",
    "\n",
    "Each element is printed.\"\"\""
   ]
  },
  {
   "cell_type": "code",
   "execution_count": 11,
   "id": "eca6c631",
   "metadata": {},
   "outputs": [
    {
     "name": "stdout",
     "output_type": "stream",
     "text": [
      "Product: 24\n"
     ]
    },
    {
     "data": {
      "text/plain": [
       "'Steps:\\n\\nInitialize product to 1.\\n\\nLoop through each number in the list.\\n\\nMultiply each number with product.\\n\\nPrint the result.'"
      ]
     },
     "execution_count": 11,
     "metadata": {},
     "output_type": "execute_result"
    }
   ],
   "source": [
    "#Q-5) Find the product of all elements in a list using a for loop\n",
    "numbers = [2, 3, 4]\n",
    "product = 1\n",
    "for num in numbers:\n",
    "    product *= num\n",
    "print(\"Product:\", product)\n",
    "\"\"\"Steps:\n",
    "\n",
    "Initialize product to 1.\n",
    "\n",
    "Loop through each number in the list.\n",
    "\n",
    "Multiply each number with product.\n",
    "\n",
    "Print the result.\"\"\""
   ]
  },
  {
   "cell_type": "code",
   "execution_count": 12,
   "id": "61e61127",
   "metadata": {},
   "outputs": [
    {
     "name": "stdout",
     "output_type": "stream",
     "text": [
      "2\n",
      "4\n",
      "6\n",
      "8\n",
      "10\n",
      "12\n",
      "14\n",
      "16\n",
      "18\n",
      "20\n"
     ]
    },
    {
     "data": {
      "text/plain": [
       "'Steps:\\n\\nLoop through numbers 1 to 20.\\n\\nCheck if a number is even (num % 2 == 0).\\n\\nPrint even numbers.'"
      ]
     },
     "execution_count": 12,
     "metadata": {},
     "output_type": "execute_result"
    }
   ],
   "source": [
    "#Q-6) Print all even numbers from 1 to 20 using a for loop\n",
    "for num in range(1, 21):\n",
    "    if num % 2 == 0:\n",
    "        print(num)\n",
    "\"\"\"Steps:\n",
    "\n",
    "Loop through numbers 1 to 20.\n",
    "\n",
    "Check if a number is even (num % 2 == 0).\n",
    "\n",
    "Print even numbers.\"\"\""
   ]
  },
  {
   "cell_type": "code",
   "execution_count": 13,
   "id": "7cd85ab2",
   "metadata": {},
   "outputs": [
    {
     "name": "stdout",
     "output_type": "stream",
     "text": [
      "Factorial of 5 is 120\n"
     ]
    },
    {
     "data": {
      "text/plain": [
       "'Steps:\\n\\nInitialize factorial to 1.\\n\\nLoop from 1 to n (inclusive).\\n\\nMultiply each number with factorial.\\n\\nPrint the result.'"
      ]
     },
     "execution_count": 13,
     "metadata": {},
     "output_type": "execute_result"
    }
   ],
   "source": [
    "#Q-7)Calculate the factorial of a number using a for loop\n",
    "n = 5\n",
    "factorial = 1\n",
    "for i in range(1, n + 1):\n",
    "    factorial *= i\n",
    "print(\"Factorial of\", n, \"is\", factorial)\n",
    "\"\"\"Steps:\n",
    "\n",
    "Initialize factorial to 1.\n",
    "\n",
    "Loop from 1 to n (inclusive).\n",
    "\n",
    "Multiply each number with factorial.\n",
    "\n",
    "Print the result.\"\"\""
   ]
  },
  {
   "cell_type": "code",
   "execution_count": 14,
   "id": "955bff8e",
   "metadata": {},
   "outputs": [
    {
     "name": "stdout",
     "output_type": "stream",
     "text": [
      "P\n",
      "y\n",
      "t\n",
      "h\n",
      "o\n",
      "n\n"
     ]
    },
    {
     "data": {
      "text/plain": [
       "'Steps:\\n\\nLoop through each character in the string word.\\n\\nPrint each character.'"
      ]
     },
     "execution_count": 14,
     "metadata": {},
     "output_type": "execute_result"
    }
   ],
   "source": [
    "#Q-8)Iterate through the characters of a string using a for loop\n",
    "\n",
    "word = \"Python\"\n",
    "for char in word:\n",
    "    print(char)\n",
    "\"\"\"Steps:\n",
    "\n",
    "Loop through each character in the string word.\n",
    "\n",
    "Print each character.\"\"\""
   ]
  },
  {
   "cell_type": "code",
   "execution_count": 15,
   "id": "58c32744",
   "metadata": {},
   "outputs": [
    {
     "name": "stdout",
     "output_type": "stream",
     "text": [
      "Largest number: 30\n"
     ]
    },
    {
     "data": {
      "text/plain": [
       "'Steps:\\n\\nAssume the first element is the largest (max_num = numbers[0]).\\n\\nLoop through each number in the list.\\n\\nUpdate max_num if a larger number is found.'"
      ]
     },
     "execution_count": 15,
     "metadata": {},
     "output_type": "execute_result"
    }
   ],
   "source": [
    "#Q-9)Find the largest number in a list using a for loop\n",
    "\n",
    "numbers = [10, 20, 5, 30, 15]\n",
    "max_num = numbers[0]  # Assume first element is largest\n",
    "for num in numbers:\n",
    "    if num > max_num:\n",
    "        max_num = num\n",
    "print(\"Largest number:\", max_num)\n",
    "\"\"\"Steps:\n",
    "\n",
    "Assume the first element is the largest (max_num = numbers[0]).\n",
    "\n",
    "Loop through each number in the list.\n",
    "\n",
    "Update max_num if a larger number is found.\"\"\""
   ]
  },
  {
   "cell_type": "code",
   "execution_count": 16,
   "id": "5db41711",
   "metadata": {},
   "outputs": [
    {
     "name": "stdout",
     "output_type": "stream",
     "text": [
      "0 1 1 2 3 5 8 13 21 34 "
     ]
    },
    {
     "data": {
      "text/plain": [
       "'Steps:\\n\\nInitialize a = 0 and b = 1 (first two Fibonacci numbers).\\nPrint a and b.\\n\\nLoop until the next Fibonacci number exceeds limit.\\n\\nUpdate a and b in each iteration.'"
      ]
     },
     "execution_count": 16,
     "metadata": {},
     "output_type": "execute_result"
    }
   ],
   "source": [
    "#Q-10)Print the Fibonacci sequence up to a specified limit using a for loop\n",
    "\n",
    "limit = 50\n",
    "a, b = 0, 1\n",
    "print(a, b, end=\" \")\n",
    "for _ in range(limit):\n",
    "    next_num = a + b\n",
    "    if next_num > limit:\n",
    "        break\n",
    "    print(next_num, end=\" \")\n",
    "    a, b = b, next_num\n",
    "\"\"\"Steps:\n",
    "\n",
    "Initialize a = 0 and b = 1 (first two Fibonacci numbers).\n",
    "Print a and b.\n",
    "\n",
    "Loop until the next Fibonacci number exceeds limit.\n",
    "\n",
    "Update a and b in each iteration.\"\"\""
   ]
  },
  {
   "cell_type": "code",
   "execution_count": 18,
   "id": "090dd10b",
   "metadata": {},
   "outputs": [
    {
     "name": "stdout",
     "output_type": "stream",
     "text": [
      "Number of vowels: 3\n"
     ]
    },
    {
     "data": {
      "text/plain": [
       "'Steps:\\n\\nDefine the string s and a string vowels containing all vowels (case-sensitive).\\nInitialize count to 0.\\n\\nLoop through each character in s.\\n\\nIf the character is in vowels, increment count.'"
      ]
     },
     "execution_count": 18,
     "metadata": {},
     "output_type": "execute_result"
    }
   ],
   "source": [
    "#Q-11)Count the number of vowels in a given string using a for loop\n",
    "\n",
    "s = \"Hello, World!\"\n",
    "vowels = \"aeiouAEIOU\"\n",
    "count = 0\n",
    "for char in s:\n",
    "    if char in vowels:\n",
    "        count += 1\n",
    "print(\"Number of vowels:\", count)\n",
    "\"\"\"Steps:\n",
    "\n",
    "Define the string s and a string vowels containing all vowels (case-sensitive).\n",
    "Initialize count to 0.\n",
    "\n",
    "Loop through each character in s.\n",
    "\n",
    "If the character is in vowels, increment count.\"\"\""
   ]
  },
  {
   "cell_type": "code",
   "execution_count": 19,
   "id": "626cdfb9",
   "metadata": {},
   "outputs": [
    {
     "name": "stdout",
     "output_type": "stream",
     "text": [
      "5 x 1 = 5\n",
      "5 x 2 = 10\n",
      "5 x 3 = 15\n",
      "5 x 4 = 20\n",
      "5 x 5 = 25\n",
      "5 x 6 = 30\n",
      "5 x 7 = 35\n",
      "5 x 8 = 40\n",
      "5 x 9 = 45\n",
      "5 x 10 = 50\n"
     ]
    },
    {
     "data": {
      "text/plain": [
       "'Steps:\\n\\nDefine the number n (e.g., 5).\\n\\nLoop from 1 to 10 using range(1, 11).'"
      ]
     },
     "execution_count": 19,
     "metadata": {},
     "output_type": "execute_result"
    }
   ],
   "source": [
    "#Q-12)Generate a multiplication table for a given number using a for loop\n",
    "\n",
    "n = 5\n",
    "for i in range(1, 11):\n",
    "    print(f\"{n} x {i} = {n * i}\")\n",
    "\"\"\"Steps:\n",
    "\n",
    "Define the number n (e.g., 5).\n",
    "\n",
    "Loop from 1 to 10 using range(1, 11).\"\"\""
   ]
  },
  {
   "cell_type": "code",
   "execution_count": 20,
   "id": "b3f7f98c",
   "metadata": {},
   "outputs": [
    {
     "name": "stdout",
     "output_type": "stream",
     "text": [
      "Reversed list: [5, 4, 3, 2, 1]\n"
     ]
    },
    {
     "data": {
      "text/plain": [
       "'Steps:\\n\\nDefine the original list lst.\\n\\nInitialize an empty list reversed_lst.\\n\\nLoop through each item in lst and insert it at the beginning of reversed_lst.'"
      ]
     },
     "execution_count": 20,
     "metadata": {},
     "output_type": "execute_result"
    }
   ],
   "source": [
    "#Q-13)Reverse a list using a for loop\n",
    "\n",
    "lst = [1, 2, 3, 4, 5]\n",
    "reversed_lst = []\n",
    "for item in lst:\n",
    "    reversed_lst.insert(0, item)\n",
    "print(\"Reversed list:\", reversed_lst)\n",
    "\"\"\"Steps:\n",
    "\n",
    "Define the original list lst.\n",
    "\n",
    "Initialize an empty list reversed_lst.\n",
    "\n",
    "Loop through each item in lst and insert it at the beginning of reversed_lst.\"\"\""
   ]
  },
  {
   "cell_type": "code",
   "execution_count": 21,
   "id": "f162e415",
   "metadata": {},
   "outputs": [
    {
     "name": "stdout",
     "output_type": "stream",
     "text": [
      "Common elements: [3, 4]\n"
     ]
    },
    {
     "data": {
      "text/plain": [
       "'Steps:\\n\\nDefine two lists list1 and list2.\\n\\nInitialize an empty list common.\\n\\nLoop through each item in list1.\\n\\nIf the item is also in list2, append it to common.'"
      ]
     },
     "execution_count": 21,
     "metadata": {},
     "output_type": "execute_result"
    }
   ],
   "source": [
    "#q-14)Find common elements between two lists using a for loop\n",
    "\n",
    "list1 = [1, 2, 3, 4]\n",
    "list2 = [3, 4, 5, 6]\n",
    "common = []\n",
    "for item in list1:\n",
    "    if item in list2:\n",
    "        common.append(item)\n",
    "print(\"Common elements:\", common)\n",
    "\"\"\"Steps:\n",
    "\n",
    "Define two lists list1 and list2.\n",
    "\n",
    "Initialize an empty list common.\n",
    "\n",
    "Loop through each item in list1.\n",
    "\n",
    "If the item is also in list2, append it to common.\"\"\""
   ]
  },
  {
   "cell_type": "code",
   "execution_count": 22,
   "id": "7d71b40d",
   "metadata": {},
   "outputs": [
    {
     "name": "stdout",
     "output_type": "stream",
     "text": [
      "Key: a, Value: 1\n",
      "Key: b, Value: 2\n",
      "Key: c, Value: 3\n"
     ]
    },
    {
     "data": {
      "text/plain": [
       "'Steps:\\n\\nDefine a dictionary d.\\n\\nUse d.items() to loop through key-value pairs.\\n\\nPrint each key and value.'"
      ]
     },
     "execution_count": 22,
     "metadata": {},
     "output_type": "execute_result"
    }
   ],
   "source": [
    "#Q-15)Iterate through keys and values of a dictionary using a for loop\n",
    "\n",
    "d = {\"a\": 1, \"b\": 2, \"c\": 3}\n",
    "for key, value in d.items():\n",
    "    print(f\"Key: {key}, Value: {value}\")\n",
    "\"\"\"Steps:\n",
    "\n",
    "Define a dictionary d.\n",
    "\n",
    "Use d.items() to loop through key-value pairs.\n",
    "\n",
    "Print each key and value.\"\"\""
   ]
  },
  {
   "cell_type": "code",
   "execution_count": 23,
   "id": "98a51666",
   "metadata": {},
   "outputs": [
    {
     "name": "stdout",
     "output_type": "stream",
     "text": [
      "GCD: 14\n"
     ]
    },
    {
     "data": {
      "text/plain": [
       "'Steps:\\n\\nDefine two numbers a and b.\\n\\nInitialize gcd to 1.\\n\\nLoop from 1 to the smaller of a and b.\\n\\nIf both numbers are divisible by i, update gcd.'"
      ]
     },
     "execution_count": 23,
     "metadata": {},
     "output_type": "execute_result"
    }
   ],
   "source": [
    "#Q-16)Find the GCD of two numbers using a for loop\n",
    "\n",
    "a, b = 56, 98\n",
    "gcd = 1\n",
    "for i in range(1, min(a, b) + 1):\n",
    "    if a % i == 0 and b % i == 0:\n",
    "        gcd = i\n",
    "print(\"GCD:\", gcd)\n",
    "\"\"\"Steps:\n",
    "\n",
    "Define two numbers a and b.\n",
    "\n",
    "Initialize gcd to 1.\n",
    "\n",
    "Loop from 1 to the smaller of a and b.\n",
    "\n",
    "If both numbers are divisible by i, update gcd.\"\"\""
   ]
  },
  {
   "cell_type": "code",
   "execution_count": 24,
   "id": "c238a1cc",
   "metadata": {},
   "outputs": [
    {
     "name": "stdout",
     "output_type": "stream",
     "text": [
      "Is palindrome? True\n"
     ]
    },
    {
     "data": {
      "text/plain": [
       "'Steps:\\n\\nDefine the string s.\\n\\nAssume is_palindrome is True.\\n\\nLoop through the first half of the string.\\n\\nCompare characters from the start and end.\\n\\nIf any mismatch, set is_palindrome to False and break.'"
      ]
     },
     "execution_count": 24,
     "metadata": {},
     "output_type": "execute_result"
    }
   ],
   "source": [
    "#Q-17)Check if a string is a palindrome using a for loop\n",
    "s = \"madam\"\n",
    "is_palindrome = True\n",
    "for i in range(len(s) // 2):\n",
    "    if s[i] != s[-i - 1]:\n",
    "        is_palindrome = False\n",
    "        break\n",
    "print(\"Is palindrome?\", is_palindrome)\n",
    "\"\"\"Steps:\n",
    "\n",
    "Define the string s.\n",
    "\n",
    "Assume is_palindrome is True.\n",
    "\n",
    "Loop through the first half of the string.\n",
    "\n",
    "Compare characters from the start and end.\n",
    "\n",
    "If any mismatch, set is_palindrome to False and break.\"\"\""
   ]
  },
  {
   "cell_type": "code",
   "execution_count": 25,
   "id": "9465aada",
   "metadata": {},
   "outputs": [
    {
     "name": "stdout",
     "output_type": "stream",
     "text": [
      "List without duplicates: [1, 2, 3, 4, 5]\n"
     ]
    },
    {
     "data": {
      "text/plain": [
       "'Steps:\\n\\nDefine the list lst with duplicates.\\n\\nInitialize an empty list unique.\\n\\nLoop through each item in lst.\\n\\nIf the item is not already in unique, append it.\\n\\nPrint the result.\\n'"
      ]
     },
     "execution_count": 25,
     "metadata": {},
     "output_type": "execute_result"
    }
   ],
   "source": [
    "#Q-18)Remove duplicates from a list using a for loop\n",
    "\n",
    "lst = [1, 2, 2, 3, 4, 4, 5]\n",
    "unique = []\n",
    "for item in lst:\n",
    "    if item not in unique:\n",
    "        unique.append(item)\n",
    "print(\"List without duplicates:\", unique)\n",
    "\"\"\"Steps:\n",
    "\n",
    "Define the list lst with duplicates.\n",
    "\n",
    "Initialize an empty list unique.\n",
    "\n",
    "Loop through each item in lst.\n",
    "\n",
    "If the item is not already in unique, append it.\n",
    "\n",
    "Print the result.\n",
    "\"\"\"\n"
   ]
  },
  {
   "cell_type": "code",
   "execution_count": 26,
   "id": "6b27e196",
   "metadata": {},
   "outputs": [
    {
     "name": "stdout",
     "output_type": "stream",
     "text": [
      "Number of words: 5\n"
     ]
    },
    {
     "data": {
      "text/plain": [
       "'Steps:\\n\\nDefine the sentence.\\n\\nSplit the sentence into words using .split().\\n\\nInitialize count to 0.\\n\\nLoop through the words and increment count.\\n'"
      ]
     },
     "execution_count": 26,
     "metadata": {},
     "output_type": "execute_result"
    }
   ],
   "source": [
    "#Q-19)Count the number of words in a sentence using a for loop\n",
    "\n",
    "sentence = \"This is a sample sentence.\"\n",
    "words = sentence.split()\n",
    "count = 0\n",
    "for _ in words:\n",
    "    count += 1\n",
    "print(\"Number of words:\", count)\n",
    "\"\"\"Steps:\n",
    "\n",
    "Define the sentence.\n",
    "\n",
    "Split the sentence into words using .split().\n",
    "\n",
    "Initialize count to 0.\n",
    "\n",
    "Loop through the words and increment count.\n",
    "\"\"\"\n"
   ]
  },
  {
   "cell_type": "code",
   "execution_count": 27,
   "id": "6fe20a69",
   "metadata": {},
   "outputs": [
    {
     "name": "stdout",
     "output_type": "stream",
     "text": [
      "Sum of odd numbers: 625\n"
     ]
    },
    {
     "data": {
      "text/plain": [
       "'Steps:\\n\\nInitialize total to 0.\\n\\nLoop from 1 to 50 (step 2 to get odd numbers).\\n\\nAdd each number to total.\\n\\nPrint the result.'"
      ]
     },
     "execution_count": 27,
     "metadata": {},
     "output_type": "execute_result"
    }
   ],
   "source": [
    "#Q-20)Sum of all odd numbers from 1 to 50 using a for loop\n",
    "\n",
    "total = 0\n",
    "for num in range(1, 51, 2):\n",
    "    total += num\n",
    "print(\"Sum of odd numbers:\", total)\n",
    "\"\"\"Steps:\n",
    "\n",
    "Initialize total to 0.\n",
    "\n",
    "Loop from 1 to 50 (step 2 to get odd numbers).\n",
    "\n",
    "Add each number to total.\n",
    "\n",
    "Print the result.\"\"\""
   ]
  },
  {
   "cell_type": "code",
   "execution_count": 28,
   "id": "951b4177",
   "metadata": {},
   "outputs": [
    {
     "name": "stdout",
     "output_type": "stream",
     "text": [
      "Is leap year? True\n"
     ]
    },
    {
     "data": {
      "text/plain": [
       "'Steps:\\n\\nDefine the year.\\n\\nCheck divisibility rules for leap years:\\n\\nDivisible by 4 but not 100, unless also divisible by 400.\\n\\nPrint the result.'"
      ]
     },
     "execution_count": 28,
     "metadata": {},
     "output_type": "execute_result"
    }
   ],
   "source": [
    "#Q-21). Check if a year is a leap year using a for loop\n",
    "\n",
    "year = 2024\n",
    "is_leap = False\n",
    "if year % 4 == 0:\n",
    "    if year % 100 != 0 or year % 400 == 0:\n",
    "        is_leap = True\n",
    "print(\"Is leap year?\", is_leap)\n",
    "\"\"\"Steps:\n",
    "\n",
    "Define the year.\n",
    "\n",
    "Check divisibility rules for leap years:\n",
    "\n",
    "Divisible by 4 but not 100, unless also divisible by 400.\n",
    "\n",
    "Print the result.\"\"\""
   ]
  },
  {
   "cell_type": "code",
   "execution_count": 29,
   "id": "600a86f3",
   "metadata": {},
   "outputs": [
    {
     "name": "stdout",
     "output_type": "stream",
     "text": [
      "Square root: 5.0\n"
     ]
    },
    {
     "data": {
      "text/plain": [
       "\"Steps:\\n\\nDefine the number n.\\n\\nInitialize guess to n / 2.\\n\\nUse Newton's method in a loop to refine the guess.\\n\\nPrint the approximate square root.\""
      ]
     },
     "execution_count": 29,
     "metadata": {},
     "output_type": "execute_result"
    }
   ],
   "source": [
    "#Q-22)Calculate the square root of a number using a for loop (approximation)\n",
    "\n",
    "n = 25\n",
    "guess = n / 2\n",
    "for _ in range(10):\n",
    "    guess = (guess + n / guess) / 2\n",
    "print(\"Square root:\", guess)\n",
    "\"\"\"Steps:\n",
    "\n",
    "Define the number n.\n",
    "\n",
    "Initialize guess to n / 2.\n",
    "\n",
    "Use Newton's method in a loop to refine the guess.\n",
    "\n",
    "Print the approximate square root.\"\"\""
   ]
  },
  {
   "cell_type": "code",
   "execution_count": 30,
   "id": "924069cb",
   "metadata": {},
   "outputs": [
    {
     "name": "stdout",
     "output_type": "stream",
     "text": [
      "LCM: 60\n"
     ]
    },
    {
     "data": {
      "text/plain": [
       "'Steps:\\n\\nDefine two numbers a and b.\\n\\nStart from the larger of the two numbers.\\n\\nIncrementally check divisibility by both numbers.\\n\\nThe first valid number is the LCM.'"
      ]
     },
     "execution_count": 30,
     "metadata": {},
     "output_type": "execute_result"
    }
   ],
   "source": [
    "#Q-23)Find the LCM of two numbers using a for loop\n",
    "\n",
    "a, b = 12, 15\n",
    "max_num = max(a, b)\n",
    "while True:\n",
    "    if max_num % a == 0 and max_num % b == 0:\n",
    "        lcm = max_num\n",
    "        break\n",
    "    max_num += 1\n",
    "print(\"LCM:\", lcm)\n",
    "\"\"\"Steps:\n",
    "\n",
    "Define two numbers a and b.\n",
    "\n",
    "Start from the larger of the two numbers.\n",
    "\n",
    "Incrementally check divisibility by both numbers.\n",
    "\n",
    "The first valid number is the LCM.\"\"\""
   ]
  },
  {
   "cell_type": "markdown",
   "id": "4752a5d7",
   "metadata": {},
   "source": [
    "# If Else LOOP"
   ]
  },
  {
   "cell_type": "code",
   "execution_count": 33,
   "id": "6e5ad6c1",
   "metadata": {},
   "outputs": [
    {
     "name": "stdout",
     "output_type": "stream",
     "text": [
      "3412.21\n",
      "Positive\n"
     ]
    }
   ],
   "source": [
    "#Q-1)\n",
    "num = float(input(\"Enter a number: \"))\n",
    "print(num)\n",
    "if num > 0:\n",
    "    print(\"Positive\")\n",
    "elif num < 0:\n",
    "    print(\"Negative\")\n",
    "else:\n",
    "    print(\"Zero\")\n",
    "    \"\"\"Take input from the user and convert it to a float.\n",
    "\n",
    "Use if to check if the number is greater than 0.\n",
    "\n",
    "Use elif to check if the number is less than 0.\n",
    "\n",
    "Use else to handle the case where the number is zero.\"\"\""
   ]
  },
  {
   "cell_type": "code",
   "execution_count": 36,
   "id": "c227048d",
   "metadata": {},
   "outputs": [
    {
     "name": "stdout",
     "output_type": "stream",
     "text": [
      "143\n",
      "Odd\n"
     ]
    },
    {
     "data": {
      "text/plain": [
       "'Steps:\\n\\nTake input from the user and convert it to an integer.\\n\\nUse if to check if the number is divisible by 2 (even).\\n\\nUse else to handle the odd case.'"
      ]
     },
     "execution_count": 36,
     "metadata": {},
     "output_type": "execute_result"
    }
   ],
   "source": [
    "#Q-2)Check if a number is even or odd\n",
    "\n",
    "num = int(input(\"Enter a number: \"))\n",
    "print(num)\n",
    "if num % 2 == 0:\n",
    "    print(\"Even\")\n",
    "else:\n",
    "    print(\"Odd\")\n",
    "\"\"\"Steps:\n",
    "\n",
    "Take input from the user and convert it to an integer.\n",
    "\n",
    "Use if to check if the number is divisible by 2 (even).\n",
    "\n",
    "Use else to handle the odd case.\"\"\""
   ]
  },
  {
   "cell_type": "code",
   "execution_count": 38,
   "id": "51a34c73",
   "metadata": {},
   "outputs": [
    {
     "name": "stdout",
     "output_type": "stream",
     "text": [
      "2143.0\n",
      "Grade: A\n"
     ]
    },
    {
     "data": {
      "text/plain": [
       "\"Steps:\\n\\nTake the user's score as input.\\n\\nUse nested if-elif-else to check the score range and assign a grade.\""
      ]
     },
     "execution_count": 38,
     "metadata": {},
     "output_type": "execute_result"
    }
   ],
   "source": [
    "#Q-3)Nested if-else example (checking grade ranges)\n",
    "\n",
    "score = float(input(\"Enter your score: \"))\n",
    "print(score)\n",
    "if score >= 90:\n",
    "    print(\"Grade: A\")\n",
    "elif score >= 80:\n",
    "    print(\"Grade: B\")\n",
    "elif score >= 70:\n",
    "    print(\"Grade: C\")\n",
    "elif score >= 60:\n",
    "    print(\"Grade: D\")\n",
    "else:\n",
    "    print(\"Grade: F\")\n",
    "\"\"\"Steps:\n",
    "\n",
    "Take the user's score as input.\n",
    "\n",
    "Use nested if-elif-else to check the score range and assign a grade.\"\"\""
   ]
  },
  {
   "cell_type": "code",
   "execution_count": 43,
   "id": "79be5cc0",
   "metadata": {},
   "outputs": [
    {
     "name": "stdout",
     "output_type": "stream",
     "text": [
      "13.1322 4123.432 431242.4234\n",
      "431242.4234 is the largest\n"
     ]
    },
    {
     "data": {
      "text/plain": [
       "'Steps:\\n\\nTake three numbers as input.\\n\\nCompare each number with the other two using if-elif-else.'"
      ]
     },
     "execution_count": 43,
     "metadata": {},
     "output_type": "execute_result"
    }
   ],
   "source": [
    "#Q-4)Find the largest of three numbers\n",
    "\n",
    "a = float(input(\"Enter first number: \"))\n",
    "b = float(input(\"Enter second number: \"))\n",
    "c = float(input(\"Enter third number: \"))\n",
    "print(a,b,c)\n",
    "if a >= b and a >= c:\n",
    "    print(f\"{a} is the largest\")\n",
    "elif b >= a and b >= c:\n",
    "    print(f\"{b} is the largest\")\n",
    "else:\n",
    "    print(f\"{c} is the largest\")\n",
    "\"\"\"Steps:\n",
    "\n",
    "Take three numbers as input.\n",
    "\n",
    "Compare each number with the other two using if-elif-else.\"\"\""
   ]
  },
  {
   "cell_type": "code",
   "execution_count": 44,
   "id": "a29e28aa",
   "metadata": {},
   "outputs": [
    {
     "name": "stdout",
     "output_type": "stream",
     "text": [
      "Absolute value: 342.432\n"
     ]
    },
    {
     "data": {
      "text/plain": [
       "'Steps:\\n\\nTake input from the user.\\n\\nUse a conditional expression (if-else in one line) to compute the absolute value'"
      ]
     },
     "execution_count": 44,
     "metadata": {},
     "output_type": "execute_result"
    }
   ],
   "source": [
    "#Q-5)Calculate the absolute value of a number\n",
    "\n",
    "num = float(input(\"Enter a number: \"))\n",
    "abs_value = num if num >= 0 else -num\n",
    "print(f\"Absolute value: {abs_value}\")\n",
    "\"\"\"Steps:\n",
    "\n",
    "Take input from the user.\n",
    "\n",
    "Use a conditional expression (if-else in one line) to compute the absolute value\"\"\""
   ]
  },
  {
   "cell_type": "code",
   "execution_count": 45,
   "id": "32f0b3a3",
   "metadata": {},
   "outputs": [
    {
     "name": "stdout",
     "output_type": "stream",
     "text": [
      "Consonant\n"
     ]
    },
    {
     "data": {
      "text/plain": [
       "'Steps:\\n\\nTake input and convert it to lowercase.\\n\\nCheck if the character is in the set of vowels.'"
      ]
     },
     "execution_count": 45,
     "metadata": {},
     "output_type": "execute_result"
    }
   ],
   "source": [
    "#Q-6)Check if a character is a vowel or consonant\n",
    "char = input(\"Enter a character: \").lower()\n",
    "if char in 'aeiou':\n",
    "    print(\"Vowel\")\n",
    "else:\n",
    "    print(\"Consonant\")\n",
    "\"\"\"Steps:\n",
    "\n",
    "Take input and convert it to lowercase.\n",
    "\n",
    "Check if the character is in the set of vowels.\"\"\"\n",
    "\n"
   ]
  },
  {
   "cell_type": "code",
   "execution_count": 51,
   "id": "93d64e76",
   "metadata": {},
   "outputs": [
    {
     "name": "stdout",
     "output_type": "stream",
     "text": [
      "18\n",
      "Eligible to vote\n"
     ]
    },
    {
     "data": {
      "text/plain": [
       "\"Steps:\\n\\nTake the user's age as input.\\n\\nCheck if the age is 18 or above.\""
      ]
     },
     "execution_count": 51,
     "metadata": {},
     "output_type": "execute_result"
    }
   ],
   "source": [
    "#Q-7)Check voting eligibility based on age\n",
    "\n",
    "age = int(input(\"Enter your age: \"))\n",
    "print(age)\n",
    "if 18<=age<=100:\n",
    "    print(\"Eligible to vote\")\n",
    "elif age>100:\n",
    "    print(\"Age doesnt exist \")\n",
    "else:\n",
    "    print(\"Not eligible to vote\")\n",
    "\"\"\"Steps:\n",
    "\n",
    "Take the user's age as input.\n",
    "\n",
    "Check if the age is 18 or above.\"\"\""
   ]
  },
  {
   "cell_type": "code",
   "execution_count": 52,
   "id": "4f0472f0",
   "metadata": {},
   "outputs": [
    {
     "name": "stdout",
     "output_type": "stream",
     "text": [
      "Discount: $0.00\n"
     ]
    },
    {
     "data": {
      "text/plain": [
       "'Steps:\\n\\nTake the purchase amount as input.\\n\\nApply different discount rates based on the amount.'"
      ]
     },
     "execution_count": 52,
     "metadata": {},
     "output_type": "execute_result"
    }
   ],
   "source": [
    "#Q-8)Calculate discount based on purchase amount\n",
    "\n",
    "amount = float(input(\"Enter purchase amount: \"))\n",
    "if amount > 1000:\n",
    "    discount = 0.1 * amount\n",
    "elif amount > 500:\n",
    "    discount = 0.05 * amount\n",
    "else:\n",
    "    discount = 0\n",
    "print(f\"Discount: ${discount:.2f}\")\n",
    "\"\"\"Steps:\n",
    "\n",
    "Take the purchase amount as input.\n",
    "\n",
    "Apply different discount rates based on the amount.\"\"\""
   ]
  },
  {
   "cell_type": "code",
   "execution_count": 53,
   "id": "59bd7d46",
   "metadata": {},
   "outputs": [
    {
     "name": "stdout",
     "output_type": "stream",
     "text": [
      "232.123 is outside the range\n"
     ]
    },
    {
     "data": {
      "text/plain": [
       "'Steps:\\n\\nTake a number as input.\\n\\nCheck if it lies between lower and upper.'"
      ]
     },
     "execution_count": 53,
     "metadata": {},
     "output_type": "execute_result"
    }
   ],
   "source": [
    "#Q-9)Check if a number is within a specified range\n",
    "\n",
    "num = float(input(\"Enter a number: \"))\n",
    "lower = 10\n",
    "upper = 20\n",
    "if lower <= num <= upper:\n",
    "    print(f\"{num} is between {lower} and {upper}\")\n",
    "else:\n",
    "    print(f\"{num} is outside the range\")\n",
    "\"\"\"Steps:\n",
    "\n",
    "Take a number as input.\n",
    "\n",
    "Check if it lies between lower and upper.\"\"\""
   ]
  },
  {
   "cell_type": "code",
   "execution_count": 54,
   "id": "137f18a2",
   "metadata": {},
   "outputs": [
    {
     "name": "stdout",
     "output_type": "stream",
     "text": [
      "Grade: A\n"
     ]
    },
    {
     "data": {
      "text/plain": [
       "'Steps:\\n\\nTake the score as input.\\nAssign a grade based on predefined ranges.'"
      ]
     },
     "execution_count": 54,
     "metadata": {},
     "output_type": "execute_result"
    }
   ],
   "source": [
    "#Q-10)Determine student grade based on score\n",
    "\n",
    "score = float(input(\"Enter your score: \"))\n",
    "if score >= 90:\n",
    "    grade = 'A'\n",
    "elif score >= 80:\n",
    "    grade = 'B'\n",
    "elif score >= 70:\n",
    "    grade = 'C'\n",
    "elif score >= 60:\n",
    "    grade = 'D'\n",
    "else:\n",
    "    grade = 'F'\n",
    "print(f\"Grade: {grade}\")\n",
    "\"\"\"Steps:\n",
    "\n",
    "Take the score as input.\n",
    "Assign a grade based on predefined ranges.\"\"\"\n"
   ]
  },
  {
   "cell_type": "code",
   "execution_count": 55,
   "id": "bf00aead",
   "metadata": {},
   "outputs": [
    {
     "name": "stdout",
     "output_type": "stream",
     "text": [
      "String is not empty\n"
     ]
    },
    {
     "data": {
      "text/plain": [
       "'Steps:\\n\\nTake a string input.\\n\\nUse strip() to remove whitespace and check if the result is empty.'"
      ]
     },
     "execution_count": 55,
     "metadata": {},
     "output_type": "execute_result"
    }
   ],
   "source": [
    "#Q-11)Check if a string is empty\n",
    "\n",
    "s = input(\"Enter a string: \")\n",
    "if not s.strip():\n",
    "    print(\"String is empty\")\n",
    "else:\n",
    "    print(\"String is not empty\")\n",
    "\"\"\"Steps:\n",
    "\n",
    "Take a string input.\n",
    "\n",
    "Use strip() to remove whitespace and check if the result is empty.\"\"\"\n",
    "\n"
   ]
  },
  {
   "cell_type": "code",
   "execution_count": 56,
   "id": "60a44d3d",
   "metadata": {},
   "outputs": [
    {
     "name": "stdout",
     "output_type": "stream",
     "text": [
      "Scalene triangle\n"
     ]
    },
    {
     "data": {
      "text/plain": [
       "'Steps:\\n\\nTake the lengths of three sides as input.\\n\\nCheck for equality to determine the triangle type.'"
      ]
     },
     "execution_count": 56,
     "metadata": {},
     "output_type": "execute_result"
    }
   ],
   "source": [
    "#Q-12)Identify the type of triangle\n",
    "\n",
    "a = float(input(\"Enter side 1: \"))\n",
    "b = float(input(\"Enter side 2: \"))\n",
    "c = float(input(\"Enter side 3: \"))\n",
    "if a == b == c:\n",
    "    print(\"Equilateral triangle\")\n",
    "elif a == b or b == c or a == c:\n",
    "    print(\"Isosceles triangle\")\n",
    "else:\n",
    "    print(\"Scalene triangle\")\n",
    "\"\"\"Steps:\n",
    "\n",
    "Take the lengths of three sides as input.\n",
    "\n",
    "Check for equality to determine the triangle type.\"\"\""
   ]
  },
  {
   "cell_type": "code",
   "execution_count": 58,
   "id": "ee90aa39",
   "metadata": {},
   "outputs": [
    {
     "name": "stdout",
     "output_type": "stream",
     "text": [
      "Thursday\n"
     ]
    },
    {
     "data": {
      "text/plain": [
       "'Steps:\\n\\nTake input from the user (1-7).\\n\\nUse if-elif-else to map the number to the corresponding day.\\n\\nHandle invalid inputs with else.'"
      ]
     },
     "execution_count": 58,
     "metadata": {},
     "output_type": "execute_result"
    }
   ],
   "source": [
    "#Q-13)Determine the day of the week based on a number (1-7)\n",
    "\n",
    "day_num = int(input(\"Enter a number (1-7): \"))\n",
    "if day_num == 1:\n",
    "    print(\"Monday\")\n",
    "elif day_num == 2:\n",
    "    print(\"Tuesday\")\n",
    "elif day_num == 3:\n",
    "    print(\"Wednesday\")\n",
    "elif day_num == 4:\n",
    "    print(\"Thursday\")\n",
    "elif day_num == 5:\n",
    "    print(\"Friday\")\n",
    "elif day_num == 6:\n",
    "    print(\"Saturday\")\n",
    "elif day_num == 7:\n",
    "    print(\"Sunday\")\n",
    "else:\n",
    "    print(\"Invalid input! Enter a number between 1 and 7.\")\n",
    "\"\"\"Steps:\n",
    "\n",
    "Take input from the user (1-7).\n",
    "\n",
    "Use if-elif-else to map the number to the corresponding day.\n",
    "\n",
    "Handle invalid inputs with else.\"\"\""
   ]
  },
  {
   "cell_type": "code",
   "execution_count": 59,
   "id": "624c6143",
   "metadata": {},
   "outputs": [
    {
     "name": "stdout",
     "output_type": "stream",
     "text": [
      "Not a leap year.\n"
     ]
    },
    {
     "data": {
      "text/plain": [
       "'Steps:\\n\\nDefine a function is_leap_year that checks divisibility rules:\\n\\nDivisible by 400 OR (divisible by 4 but not by 100).\\n\\nTake user input and call the function.\\n\\nPrint the result using a conditional expression.'"
      ]
     },
     "execution_count": 59,
     "metadata": {},
     "output_type": "execute_result"
    }
   ],
   "source": [
    "#Q-14)Check if a year is a leap year (using if-else and a function)\n",
    "\n",
    "def is_leap_year(year):\n",
    "    if (year % 400 == 0) or (year % 100 != 0 and year % 4 == 0):\n",
    "        return True\n",
    "    else:\n",
    "        return False\n",
    "\n",
    "year = int(input(\"Enter a year: \"))\n",
    "print(\"Leap year!\" if is_leap_year(year) else \"Not a leap year.\")\n",
    "\"\"\"Steps:\n",
    "\n",
    "Define a function is_leap_year that checks divisibility rules:\n",
    "\n",
    "Divisible by 400 OR (divisible by 4 but not by 100).\n",
    "\n",
    "Take user input and call the function.\n",
    "\n",
    "Print the result using a conditional expression.\"\"\"\n"
   ]
  },
  {
   "cell_type": "code",
   "execution_count": 61,
   "id": "dc14303e",
   "metadata": {},
   "outputs": [
    {
     "name": "stdout",
     "output_type": "stream",
     "text": [
      "x is <= 5\n"
     ]
    },
    {
     "data": {
      "text/plain": [
       "'Steps:\\n\\nassert checks if a condition is True. If False, it raises an AssertionError.\\n\\nUseful for debugging to ensure assumptions hold in if-else logic.'"
      ]
     },
     "execution_count": 61,
     "metadata": {},
     "output_type": "execute_result"
    }
   ],
   "source": [
    "#Q-15)Use assert for debugging in if-else blocks\n",
    "\n",
    "x = 2\n",
    "if x > 5:\n",
    "    assert x != 10, \"x should not be 10\"  # This will raise an AssertionError\n",
    "else:\n",
    "    print(\"x is <= 5\")\n",
    "\"\"\"Steps:\n",
    "\n",
    "assert checks if a condition is True. If False, it raises an AssertionError.\n",
    "\n",
    "Useful for debugging to ensure assumptions hold in if-else logic.\"\"\""
   ]
  },
  {
   "cell_type": "code",
   "execution_count": 62,
   "id": "bd4c156f",
   "metadata": {},
   "outputs": [
    {
     "name": "stdout",
     "output_type": "stream",
     "text": [
      "Eligible for senior citizen discount!\n"
     ]
    },
    {
     "data": {
      "text/plain": [
       "'Steps:\\n\\nTake age as input.\\n\\nUse if-else to check if age is 60 or above.\\n\\n'"
      ]
     },
     "execution_count": 62,
     "metadata": {},
     "output_type": "execute_result"
    }
   ],
   "source": [
    "#Q-16)Check eligibility for a senior citizen discount (age ≥ 60)\n",
    "\n",
    "age = int(input(\"Enter your age: \"))\n",
    "if age >= 60:\n",
    "    print(\"Eligible for senior citizen discount!\")\n",
    "else:\n",
    "    print(\"Not eligible.\")\n",
    "\"\"\"Steps:\n",
    "\n",
    "Take age as input.\n",
    "\n",
    "Use if-else to check if age is 60 or above.\n",
    "\n",
    "\"\"\""
   ]
  },
  {
   "cell_type": "code",
   "execution_count": 63,
   "id": "1c735d8b",
   "metadata": {},
   "outputs": [
    {
     "name": "stdout",
     "output_type": "stream",
     "text": [
      "Not a letter or case-neutral (e.g., number/symbol)\n"
     ]
    },
    {
     "data": {
      "text/plain": [
       "'Steps:\\n\\nUse isupper() and islower() string methods to check the case.\\n\\nHandle non-alphabetic characters with else.'"
      ]
     },
     "execution_count": 63,
     "metadata": {},
     "output_type": "execute_result"
    }
   ],
   "source": [
    "#Q-17)Categorize a character as uppercase, lowercase, or neither\n",
    "\n",
    "char = input(\"Enter a character: \")\n",
    "if char.isupper():\n",
    "    print(\"Uppercase\")\n",
    "elif char.islower():\n",
    "    print(\"Lowercase\")\n",
    "else:\n",
    "    print(\"Not a letter or case-neutral (e.g., number/symbol)\")\n",
    "\"\"\"Steps:\n",
    "\n",
    "Use isupper() and islower() string methods to check the case.\n",
    "\n",
    "Handle non-alphabetic characters with else.\"\"\"\n",
    "\n"
   ]
  },
  {
   "cell_type": "code",
   "execution_count": 69,
   "id": "a8faad1a",
   "metadata": {},
   "outputs": [
    {
     "name": "stdout",
     "output_type": "stream",
     "text": [
      "No real roots (complex roots).\n"
     ]
    },
    {
     "data": {
      "text/plain": [
       "'Steps:\\n\\nCompute the discriminant (b² - 4ac).\\n\\nUse if-elif-else to handle cases for positive, zero, and negative discriminants.'"
      ]
     },
     "execution_count": 69,
     "metadata": {},
     "output_type": "execute_result"
    }
   ],
   "source": [
    "#Q-18)Find roots of a quadratic equation (ax² + bx + c = 0)\n",
    "\n",
    "import math\n",
    "\n",
    "a,b,c = map(float, input(\"Enter coefficients (a b c): \").split())\n",
    "discriminant = b**2 - 4*a*c\n",
    "\n",
    "if discriminant > 0:\n",
    "    root1 = (-b + math.sqrt(discriminant)) / (2*a)\n",
    "    root2 = (-b - math.sqrt(discriminant)) / (2*a)\n",
    "    print(f\"Two real roots: {root1}, {root2}\")\n",
    "elif discriminant == 0:\n",
    "    root = -b / (2*a)\n",
    "    print(f\"One real root: {root}\")\n",
    "else:\n",
    "    print(\"No real roots (complex roots).\")\n",
    "\"\"\"Steps:\n",
    "\n",
    "Compute the discriminant (b² - 4ac).\n",
    "\n",
    "Use if-elif-else to handle cases for positive, zero, and negative discriminants.\"\"\""
   ]
  },
  {
   "cell_type": "code",
   "execution_count": 70,
   "id": "b9b80281",
   "metadata": {},
   "outputs": [
    {
     "name": "stdout",
     "output_type": "stream",
     "text": [
      "Not a century year.\n"
     ]
    },
    {
     "data": {
      "text/plain": [
       "'Steps:\\n\\nCheck divisibility by 100 using %.\\n'"
      ]
     },
     "execution_count": 70,
     "metadata": {},
     "output_type": "execute_result"
    }
   ],
   "source": [
    "#Q-19)Check if a year is a century year (divisible by 100)\n",
    "\n",
    "year = int(input(\"Enter a year: \"))\n",
    "if year % 100 == 0:\n",
    "    print(\"Century year!\")\n",
    "else:\n",
    "    print(\"Not a century year.\")\n",
    "\"\"\"Steps:\n",
    "\n",
    "Check divisibility by 100 using %.\n",
    "\n",
    "\"\"\"\n"
   ]
  },
  {
   "cell_type": "code",
   "execution_count": 71,
   "id": "1c8a956d",
   "metadata": {},
   "outputs": [
    {
     "name": "stdout",
     "output_type": "stream",
     "text": [
      "Not a perfect square.\n"
     ]
    },
    {
     "data": {
      "text/plain": [
       "'Steps:\\n\\nUse math.isqrt to compute the integer square root.\\n\\nCheck if squaring it gives back the original number.'"
      ]
     },
     "execution_count": 71,
     "metadata": {},
     "output_type": "execute_result"
    }
   ],
   "source": [
    "#Q-20)Check if a number is a perfect square\n",
    "\n",
    "import math\n",
    "\n",
    "num = int(input(\"Enter a number: \"))\n",
    "sqrt = math.isqrt(num)\n",
    "if sqrt * sqrt == num:\n",
    "    print(\"Perfect square!\")\n",
    "else:\n",
    "    print(\"Not a perfect square.\")\n",
    "\"\"\"Steps:\n",
    "\n",
    "Use math.isqrt to compute the integer square root.\n",
    "\n",
    "Check if squaring it gives back the original number.\"\"\""
   ]
  },
  {
   "cell_type": "code",
   "execution_count": 72,
   "id": "c091cadf",
   "metadata": {},
   "outputs": [
    {
     "name": "stdout",
     "output_type": "stream",
     "text": [
      "0\n",
      "1\n",
      "2\n",
      "4\n",
      "5\n",
      "6\n"
     ]
    }
   ],
   "source": [
    "#Q-21)Purpose of continue and break in loops\n",
    "\"\"\"continue: Skips the current iteration and moves to the next.\n",
    "\n",
    "break: Exits the loop entirely.\n",
    "\n",
    "\"\"\"\n",
    "for i in range(10):\n",
    "    if i == 3:\n",
    "        continue  # Skip 3\n",
    "    if i == 7:\n",
    "        break    # Stop at 7\n",
    "    print(i)     # Output: 0, 1, 2, 4, 5, 6\n"
   ]
  },
  {
   "cell_type": "code",
   "execution_count": 73,
   "id": "b89e7478",
   "metadata": {},
   "outputs": [
    {
     "name": "stdout",
     "output_type": "stream",
     "text": [
      "BMI: 0.06 (Underweight)\n"
     ]
    },
    {
     "data": {
      "text/plain": [
       "'Steps:\\n\\nCalculate BMI (weight / height²).\\n\\nUse if-elif-else to assign a category based on WHO standards.'"
      ]
     },
     "execution_count": 73,
     "metadata": {},
     "output_type": "execute_result"
    }
   ],
   "source": [
    "#Q-22)Calculate BMI and categorize\n",
    "\n",
    "weight = float(input(\"Enter weight (kg): \"))\n",
    "height = float(input(\"Enter height (m): \"))\n",
    "bmi = weight / (height ** 2)\n",
    "\n",
    "if bmi < 18.5:\n",
    "    category = \"Underweight\"\n",
    "elif 18.5 <= bmi < 25:\n",
    "    category = \"Normal\"\n",
    "elif 25 <= bmi < 30:\n",
    "    category = \"Overweight\"\n",
    "else:\n",
    "    category = \"Obese\"\n",
    "\n",
    "print(f\"BMI: {bmi:.2f} ({category})\")\n",
    "\"\"\"Steps:\n",
    "\n",
    "Calculate BMI (weight / height²).\n",
    "\n",
    "Use if-elif-else to assign a category based on WHO standards.\"\"\""
   ]
  },
  {
   "cell_type": "code",
   "execution_count": 74,
   "id": "8f001ce2",
   "metadata": {},
   "outputs": [
    {
     "name": "stdout",
     "output_type": "stream",
     "text": [
      "[2, 4, 6]\n"
     ]
    },
    {
     "data": {
      "text/plain": [
       "'Steps:\\n\\nfilter(func, iterable) applies a function (e.g., lambda) to each item.\\n\\nOnly items where the function returns True are kept.'"
      ]
     },
     "execution_count": 74,
     "metadata": {},
     "output_type": "execute_result"
    }
   ],
   "source": [
    "#Q-23)Use filter() with if-else to filter a list\n",
    "\n",
    "numbers = [1, 2, 3, 4, 5, 6]\n",
    "filtered = list(filter(lambda x: x % 2 == 0, numbers))  # Keeps even numbers\n",
    "print(filtered)  # Output: [2, 4, 6]\n",
    "\"\"\"Steps:\n",
    "\n",
    "filter(func, iterable) applies a function (e.g., lambda) to each item.\n",
    "\n",
    "Only items where the function returns True are kept.\"\"\""
   ]
  },
  {
   "cell_type": "code",
   "execution_count": 75,
   "id": "83e95053",
   "metadata": {},
   "outputs": [
    {
     "name": "stdout",
     "output_type": "stream",
     "text": [
      "Not prime\n"
     ]
    },
    {
     "data": {
      "text/plain": [
       "'Steps:\\n\\nCheck divisibility from 2 up to √num.\\n\\nIf no divisors found, the number is prime (Note: else belongs to the for loop, not if).'"
      ]
     },
     "execution_count": 75,
     "metadata": {},
     "output_type": "execute_result"
    }
   ],
   "source": [
    "#Q-24)Check if a number is prime\n",
    "\n",
    "num = int(input(\"Enter a number: \"))\n",
    "if num > 1:\n",
    "    for i in range(2, int(num**0.5) + 1):\n",
    "        if num % i == 0:\n",
    "            print(\"Not prime\")\n",
    "            break\n",
    "    else:\n",
    "        print(\"Prime\")\n",
    "else:\n",
    "    print(\"Not prime\")\n",
    "\"\"\"Steps:\n",
    "\n",
    "Check divisibility from 2 up to √num.\n",
    "\n",
    "If no divisors found, the number is prime (Note: else belongs to the for loop, not if).\"\"\""
   ]
  },
  {
   "cell_type": "markdown",
   "id": "96e50782",
   "metadata": {},
   "source": [
    "# Map"
   ]
  },
  {
   "cell_type": "code",
   "execution_count": 1,
   "id": "c8e7b854",
   "metadata": {},
   "outputs": [
    {
     "name": "stdout",
     "output_type": "stream",
     "text": [
      "[1, 4, 9, 16]\n"
     ]
    },
    {
     "data": {
      "text/plain": [
       "'Steps:\\n\\nDefine a list numbers.\\n\\nUse map() with a lambda function to square each element.\\n\\nConvert the result to a list and print.'"
      ]
     },
     "execution_count": 1,
     "metadata": {},
     "output_type": "execute_result"
    }
   ],
   "source": [
    "#Q-1)Purpose of map() and Example\n",
    "\"\"\"Purpose:\n",
    "The map() function applies a given function to each item of an iterable (e.g., list, tuple) and returns an iterator of the results.\n",
    "\"\"\"\n",
    "numbers = [1, 2, 3, 4]\n",
    "squared = map(lambda x: x ** 2, numbers)\n",
    "print(list(squared))  # Output: [1, 4, 9, 16]\n",
    "\"\"\"Steps:\n",
    "\n",
    "Define a list numbers.\n",
    "\n",
    "Use map() with a lambda function to square each element.\n",
    "\n",
    "Convert the result to a list and print.\"\"\""
   ]
  },
  {
   "cell_type": "code",
   "execution_count": 7,
   "id": "1fab10e6",
   "metadata": {},
   "outputs": [
    {
     "name": "stdout",
     "output_type": "stream",
     "text": [
      "[1, 4, 9, 16]\n",
      "Q-3 [2, 4, 6, 8]\n"
     ]
    }
   ],
   "source": [
    "#Q-2)Square Each Element of a List\n",
    "\n",
    "numbers = [1, 2, 3, 4]\n",
    "squared = list(map(lambda x: x ** 2, numbers))\n",
    "print(squared)  # Output: [1, 4, 9, 16]\n",
    "\"\"\"Steps:\n",
    "Same as above, but directly convert the map object to a list.\n",
    "\"\"\"\n",
    "#Q-3). map() vs. List Comprehension\n",
    "\"\"\"Difference:\n",
    "\n",
    "map(): Returns an iterator (memory-efficient), requires list() conversion for visible output. Best for applying a single function.\n",
    "\n",
    "List Comprehension: Returns a list immediately, more readable for simple transformations. Allows filtering with if.\n",
    "\n",
    "When to Use:\n",
    "\n",
    "Use map() when applying an existing function (e.g., str.upper).\n",
    "Use list comprehension for readability or when needing filtering (e.g., [x**2 for x in numbers if x > 2]).\n",
    "\"\"\"\n",
    "# Using map()\n",
    "result_map = list(map(lambda x: x * 2, numbers))\n",
    "\n",
    "# Using list comprehension\n",
    "result_comp = [x * 2 for x in numbers]\n",
    "print(\"Q-3\",result_comp)"
   ]
  },
  {
   "cell_type": "code",
   "execution_count": 8,
   "id": "70272927",
   "metadata": {},
   "outputs": [
    {
     "name": "stdout",
     "output_type": "stream",
     "text": [
      "['ALICE', 'BOB', 'CHARLIE']\n"
     ]
    },
    {
     "data": {
      "text/plain": [
       "'Steps:\\n\\nUse str.upper (a built-in method) directly in map().\\n\\nConvert the result to a list.\\n'"
      ]
     },
     "execution_count": 8,
     "metadata": {},
     "output_type": "execute_result"
    }
   ],
   "source": [
    "#Q-4)Convert Names to Uppercase\n",
    "\n",
    "names = [\"alice\", \"bob\", \"charlie\"]\n",
    "uppercase_names = list(map(str.upper, names))\n",
    "print(uppercase_names)  # Output: ['ALICE', 'BOB', 'CHARLIE']\n",
    "\"\"\"Steps:\n",
    "\n",
    "Use str.upper (a built-in method) directly in map().\n",
    "\n",
    "Convert the result to a list.\n",
    "\"\"\""
   ]
  },
  {
   "cell_type": "code",
   "execution_count": 9,
   "id": "3852e45e",
   "metadata": {},
   "outputs": [
    {
     "name": "stdout",
     "output_type": "stream",
     "text": [
      "[5, 6, 6]\n"
     ]
    },
    {
     "data": {
      "text/plain": [
       "'Steps:\\n\\nUse the built-in len function in map().\\n\\nConvert the result to a list.'"
      ]
     },
     "execution_count": 9,
     "metadata": {},
     "output_type": "execute_result"
    }
   ],
   "source": [
    "#Q-5)Calculate Word Lengths\n",
    "\n",
    "words = [\"apple\", \"banana\", \"cherry\"]\n",
    "lengths = list(map(len, words))\n",
    "print(lengths)  # Output: [5, 6, 6]\n",
    "\"\"\"Steps:\n",
    "\n",
    "Use the built-in len function in map().\n",
    "\n",
    "Convert the result to a list.\"\"\""
   ]
  },
  {
   "cell_type": "code",
   "execution_count": 10,
   "id": "59f048aa",
   "metadata": {},
   "outputs": [
    {
     "name": "stdout",
     "output_type": "stream",
     "text": [
      "[4, 10, 18]\n"
     ]
    },
    {
     "data": {
      "text/plain": [
       "'Steps:\\n\\nDefine a custom function multiply.\\n\\nPass multiple lists to map(); the function is applied to corresponding elements.'"
      ]
     },
     "execution_count": 10,
     "metadata": {},
     "output_type": "execute_result"
    }
   ],
   "source": [
    "#Q-6)Apply Custom Function to Multiple Lists\n",
    "\n",
    "def multiply(x, y):\n",
    "    return x * y\n",
    "\n",
    "list1 = [1, 2, 3]\n",
    "list2 = [4, 5, 6]\n",
    "result = list(map(multiply, list1, list2))\n",
    "print(result)  # Output: [4, 10, 18]\n",
    "\"\"\"Steps:\n",
    "\n",
    "Define a custom function multiply.\n",
    "\n",
    "Pass multiple lists to map(); the function is applied to corresponding elements.\"\"\"\n",
    "\n"
   ]
  },
  {
   "cell_type": "code",
   "execution_count": 12,
   "id": "d3949786",
   "metadata": {},
   "outputs": [
    {
     "name": "stdout",
     "output_type": "stream",
     "text": [
      "[32.0, 50.0, 68.0, 86.0]\n"
     ]
    },
    {
     "data": {
      "text/plain": [
       "'Steps:\\n\\nUse a lambda function to apply the conversion formula: \\nF=9C/5 + 12\\n\\nConvert the map object to a list.'"
      ]
     },
     "execution_count": 12,
     "metadata": {},
     "output_type": "execute_result"
    }
   ],
   "source": [
    "#Q-7)Convert Celsius to Fahrenheit\n",
    "\n",
    "celsius = [0, 10, 20, 30]\n",
    "fahrenheit = list(map(lambda c: (9/5) * c + 32, celsius))\n",
    "print(fahrenheit)  # Output: [32.0, 50.0, 68.0, 86.0]\n",
    "\"\"\"Steps:\n",
    "\n",
    "Use a lambda function to apply the conversion formula: \n",
    "F=9C/5 + 12\n",
    "\n",
    "Convert the map object to a list.\"\"\"\n",
    "\n"
   ]
  },
  {
   "cell_type": "code",
   "execution_count": 13,
   "id": "b3317ead",
   "metadata": {},
   "outputs": [
    {
     "name": "stdout",
     "output_type": "stream",
     "text": [
      "[3, 3, 2]\n"
     ]
    },
    {
     "data": {
      "text/plain": [
       "'Steps:\\n\\nUse the built-in round function in map().\\n\\nConvert the result to a list.\\n'"
      ]
     },
     "execution_count": 13,
     "metadata": {},
     "output_type": "execute_result"
    }
   ],
   "source": [
    "#Q-8)Round Floating-Point Numbers\n",
    "\n",
    "floats = [3.14, 2.718, 1.618]\n",
    "rounded = list(map(round, floats))\n",
    "print(rounded)  # Output: [3, 3, 2]\n",
    "\"\"\"Steps:\n",
    "\n",
    "Use the built-in round function in map().\n",
    "\n",
    "Convert the result to a list.\n",
    "\"\"\"\n"
   ]
  },
  {
   "cell_type": "markdown",
   "id": "c128f889",
   "metadata": {},
   "source": [
    "# Reduce"
   ]
  },
  {
   "cell_type": "code",
   "execution_count": 14,
   "id": "f8132371",
   "metadata": {},
   "outputs": [
    {
     "name": "stdout",
     "output_type": "stream",
     "text": [
      "10\n",
      "120\n"
     ]
    },
    {
     "data": {
      "text/plain": [
       "'Explanation:\\n\\nComputes 2 * 3 = 6, then 6 * 4 = 24, and finally 24 * 5 = 120.'"
      ]
     },
     "execution_count": 14,
     "metadata": {},
     "output_type": "execute_result"
    }
   ],
   "source": [
    "#Q-1)What is reduce() and Basic Usage\n",
    "\"\"\"Purpose:\n",
    "The reduce() function applies a rolling computation (e.g., cumulative sum, product) to sequential pairs of elements in an iterable, reducing it to a single value.\n",
    "\n",
    "Module:\n",
    "Import from functools.\n",
    "\n",
    "\"\"\"\n",
    "\n",
    "from functools import reduce\n",
    "numbers = [1, 2, 3, 4]\n",
    "sum_result = reduce(lambda x, y: x + y, numbers)\n",
    "print(sum_result)  # Output: 10\n",
    "\"\"\"Steps:\n",
    "\n",
    "reduce() applies lambda x, y: x + y cumulatively:\n",
    "\n",
    "First: 1 + 2 = 3\n",
    "\n",
    "Next: 3 + 3 = 6\n",
    "\n",
    "Finally: 6 + 4 = 10\n",
    "\"\"\"\n",
    "#Q-2.) Product of All Elements in a List\n",
    "\n",
    "from functools import reduce\n",
    "numbers = [2, 3, 4, 5]\n",
    "product = reduce(lambda x, y: x * y, numbers)\n",
    "print(product)  # Output: 120\n",
    "\"\"\"Explanation:\n",
    "\n",
    "Computes 2 * 3 = 6, then 6 * 4 = 24, and finally 24 * 5 = 120.\"\"\"\n",
    "\n"
   ]
  },
  {
   "cell_type": "code",
   "execution_count": 15,
   "id": "ac0d8b4d",
   "metadata": {},
   "outputs": [
    {
     "name": "stdout",
     "output_type": "stream",
     "text": [
      "42\n"
     ]
    },
    {
     "data": {
      "text/plain": [
       "'Explanation:\\n\\nCompares pairs sequentially, retaining the larger value each time.\\n'"
      ]
     },
     "execution_count": 15,
     "metadata": {},
     "output_type": "execute_result"
    }
   ],
   "source": [
    "#Q-3)Maximum Element in a List\n",
    "\n",
    "from functools import reduce\n",
    "numbers = [10, 23, 5, 42, 17]\n",
    "max_num = reduce(lambda x, y: x if x > y else y, numbers)\n",
    "print(max_num)  # Output: 42\n",
    "\"\"\"Explanation:\n",
    "\n",
    "Compares pairs sequentially, retaining the larger value each time.\n",
    "\"\"\""
   ]
  },
  {
   "cell_type": "code",
   "execution_count": 16,
   "id": "b3df4c76",
   "metadata": {},
   "outputs": [
    {
     "name": "stdout",
     "output_type": "stream",
     "text": [
      "Hello World!\n"
     ]
    },
    {
     "data": {
      "text/plain": [
       "'Explanation:\\n\\nJoins strings step-by-step: \"Hello\" + \" \" = \"Hello \", then \"Hello \" + \"World\" = \"Hello World\", etc.\\n'"
      ]
     },
     "execution_count": 16,
     "metadata": {},
     "output_type": "execute_result"
    }
   ],
   "source": [
    "\n",
    "#Q-4) Concatenate List of Strings\n",
    "\n",
    "from functools import reduce\n",
    "words = [\"Hello\", \" \", \"World\", \"!\"]\n",
    "combined = reduce(lambda x, y: x + y, words)\n",
    "print(combined)  # Output: \"Hello World!\"\n",
    "\"\"\"Explanation:\n",
    "\n",
    "Joins strings step-by-step: \"Hello\" + \" \" = \"Hello \", then \"Hello \" + \"World\" = \"Hello World\", etc.\n",
    "\"\"\""
   ]
  },
  {
   "cell_type": "code",
   "execution_count": 17,
   "id": "862b3f1b",
   "metadata": {},
   "outputs": [
    {
     "name": "stdout",
     "output_type": "stream",
     "text": [
      "120\n"
     ]
    },
    {
     "data": {
      "text/plain": [
       "'Explanation:\\n\\nrange(1, 6) generates [1, 2, 3, 4, 5].\\n\\nComputes 1 * 2 = 2, 2 * 3 = 6, 6 * 4 = 24, and 24 * 5 = 120.'"
      ]
     },
     "execution_count": 17,
     "metadata": {},
     "output_type": "execute_result"
    }
   ],
   "source": [
    "\n",
    "#Q-5) Factorial Using reduce()\n",
    "\n",
    "from functools import reduce\n",
    "n = 5\n",
    "factorial = reduce(lambda x, y: x * y, range(1, n + 1))\n",
    "print(factorial)  # Output: 120\n",
    "\"\"\"Explanation:\n",
    "\n",
    "range(1, 6) generates [1, 2, 3, 4, 5].\n",
    "\n",
    "Computes 1 * 2 = 2, 2 * 3 = 6, 6 * 4 = 24, and 24 * 5 = 120.\"\"\""
   ]
  },
  {
   "cell_type": "code",
   "execution_count": 18,
   "id": "bad356f4",
   "metadata": {},
   "outputs": [
    {
     "name": "stdout",
     "output_type": "stream",
     "text": [
      "12\n"
     ]
    },
    {
     "data": {
      "text/plain": [
       "'Explanation:\\n\\nUses math.gcd to compute GCD pairwise:\\n\\nFirst: gcd(24, 36) = 12\\n\\nNext: gcd(12, 48) = 12\\n\\nFinally: gcd(12, 60) = 12\\n'"
      ]
     },
     "execution_count": 18,
     "metadata": {},
     "output_type": "execute_result"
    }
   ],
   "source": [
    "#Q-6)GCD of a List of Numbers\n",
    "\n",
    "from functools import reduce\n",
    "import math\n",
    "numbers = [24, 36, 48, 60]\n",
    "gcd_result = reduce(math.gcd, numbers)\n",
    "print(gcd_result)  # Output: 12\n",
    "\"\"\"Explanation:\n",
    "\n",
    "Uses math.gcd to compute GCD pairwise:\n",
    "\n",
    "First: gcd(24, 36) = 12\n",
    "\n",
    "Next: gcd(12, 48) = 12\n",
    "\n",
    "Finally: gcd(12, 60) = 12\n",
    "\"\"\""
   ]
  },
  {
   "cell_type": "code",
   "execution_count": 19,
   "id": "25890faf",
   "metadata": {},
   "outputs": [
    {
     "name": "stdout",
     "output_type": "stream",
     "text": [
      "15\n"
     ]
    },
    {
     "data": {
      "text/plain": [
       "'Steps:\\n\\nConvert the number to a string (\"12345\"), then map each digit to an integer ([1, 2, 3, 4, 5]).\\n\\nreduce() sums the digits: 1 + 2 = 3, 3 + 3 = 6, 6 + 4 = 10, 10 + 5 = 15.'"
      ]
     },
     "execution_count": 19,
     "metadata": {},
     "output_type": "execute_result"
    }
   ],
   "source": [
    "\n",
    "#Q-7) Sum of Digits of a Number\n",
    "\n",
    "from functools import reduce\n",
    "number = 12345\n",
    "digit_sum = reduce(lambda x, y: x + y, map(int, str(number)))\n",
    "print(digit_sum)  # Output: 15\n",
    "\"\"\"Steps:\n",
    "\n",
    "Convert the number to a string (\"12345\"), then map each digit to an integer ([1, 2, 3, 4, 5]).\n",
    "\n",
    "reduce() sums the digits: 1 + 2 = 3, 3 + 3 = 6, 6 + 4 = 10, 10 + 5 = 15.\"\"\""
   ]
  },
  {
   "cell_type": "markdown",
   "id": "93e05d23",
   "metadata": {},
   "source": [
    "# Funnctions"
   ]
  },
  {
   "cell_type": "code",
   "execution_count": 20,
   "id": "d759257b",
   "metadata": {},
   "outputs": [
    {
     "name": "stdout",
     "output_type": "stream",
     "text": [
      "[2, 4]\n"
     ]
    },
    {
     "data": {
      "text/plain": [
       "'Steps:\\n\\nfilter() applies the lambda function to each element in numbers.\\n\\nOnly elements returning True (even numbers) are included in the result.\\n\\nConvert the iterator to a list for display.\\n'"
      ]
     },
     "execution_count": 20,
     "metadata": {},
     "output_type": "execute_result"
    }
   ],
   "source": [
    "#Q-1)Purpose of filter() and Example\n",
    "\n",
    "#The filter() function constructs an iterator from elements of an iterable for which a function returns True. It \"filters out\" items that don’t meet a condition.\n",
    "\n",
    "#Example:\n",
    "\n",
    "numbers = [1, 2, 3, 4, 5]\n",
    "filtered = filter(lambda x: x % 2 == 0, numbers)  # Keeps even numbers\n",
    "print(list(filtered))  # Output: [2, 4]\n",
    "\"\"\"Steps:\n",
    "\n",
    "filter() applies the lambda function to each element in numbers.\n",
    "\n",
    "Only elements returning True (even numbers) are included in the result.\n",
    "\n",
    "Convert the iterator to a list for display.\n",
    "\"\"\""
   ]
  },
  {
   "cell_type": "code",
   "execution_count": 21,
   "id": "2f69c159",
   "metadata": {},
   "outputs": [
    {
     "name": "stdout",
     "output_type": "stream",
     "text": [
      "[10, 20, 30]\n"
     ]
    },
    {
     "data": {
      "text/plain": [
       "'Explanation:\\n\\nThe lambda function checks divisibility by 2.\\n\\nfilter() returns an iterator, converted to a list.\\n'"
      ]
     },
     "execution_count": 21,
     "metadata": {},
     "output_type": "execute_result"
    }
   ],
   "source": [
    "\n",
    "#Q-2) Select Even Numbers from a List\n",
    "\n",
    "numbers = [10, 15, 20, 25, 30]\n",
    "evens = list(filter(lambda x: x % 2 == 0, numbers))\n",
    "print(evens)  # Output: [10, 20, 30]\n",
    "\"\"\"Explanation:\n",
    "\n",
    "The lambda function checks divisibility by 2.\n",
    "\n",
    "filter() returns an iterator, converted to a list.\n",
    "\"\"\""
   ]
  },
  {
   "cell_type": "code",
   "execution_count": 22,
   "id": "65f23e45",
   "metadata": {},
   "outputs": [
    {
     "name": "stdout",
     "output_type": "stream",
     "text": [
      "['Charlie']\n"
     ]
    },
    {
     "data": {
      "text/plain": [
       "'Key Function:\\n\\nstr.startswith() checks the first letter of each name.'"
      ]
     },
     "execution_count": 22,
     "metadata": {},
     "output_type": "execute_result"
    }
   ],
   "source": [
    "#Q-3)Select Names Starting with a Specific Letter\n",
    "\n",
    "names = [\"Alice\", \"Bob\", \"Charlie\", \"David\", \"Eve\"]\n",
    "letter = 'C'\n",
    "filtered_names = list(filter(lambda name: name.startswith(letter), names))\n",
    "print(filtered_names)  # Output: [\"Charlie\"]\n",
    "\"\"\"Key Function:\n",
    "\n",
    "str.startswith() checks the first letter of each name.\"\"\""
   ]
  },
  {
   "cell_type": "code",
   "execution_count": 23,
   "id": "66b64101",
   "metadata": {},
   "outputs": [
    {
     "name": "stdout",
     "output_type": "stream",
     "text": [
      "[2, 3, 5, 7]\n"
     ]
    },
    {
     "data": {
      "text/plain": [
       "'Steps:\\n\\nDefine is_prime() to check primality.\\n\\nfilter() applies this function to each number.\\n'"
      ]
     },
     "execution_count": 23,
     "metadata": {},
     "output_type": "execute_result"
    }
   ],
   "source": [
    "#Q-4)Select Prime Numbers from a List\n",
    "\n",
    "def is_prime(n):\n",
    "    if n <= 1:\n",
    "        return False\n",
    "    for i in range(2, int(n**0.5) + 1):\n",
    "        if n % i == 0:\n",
    "            return False\n",
    "    return True\n",
    "\n",
    "numbers = [2, 3, 4, 5, 6, 7, 8, 9, 10]\n",
    "primes = list(filter(is_prime, numbers))\n",
    "print(primes)  # Output: [2, 3, 5, 7]\n",
    "\"\"\"Steps:\n",
    "\n",
    "Define is_prime() to check primality.\n",
    "\n",
    "filter() applies this function to each number.\n",
    "\"\"\"\n"
   ]
  },
  {
   "cell_type": "code",
   "execution_count": 24,
   "id": "e8ba77af",
   "metadata": {},
   "outputs": [
    {
     "name": "stdout",
     "output_type": "stream",
     "text": [
      "[1, 'Hello', 5.2, False]\n"
     ]
    },
    {
     "data": {
      "text/plain": [
       "'Note:\\n\\nx is not None ensures False and 0 are retained (unlike if x).'"
      ]
     },
     "execution_count": 24,
     "metadata": {},
     "output_type": "execute_result"
    }
   ],
   "source": [
    "#Q-5)Remove None Values from a List\n",
    "\n",
    "data = [1, None, \"Hello\", None, 5.2, False]\n",
    "cleaned = list(filter(lambda x: x is not None, data))\n",
    "print(cleaned)  # Output: [1, \"Hello\", 5.2, False]\n",
    "\"\"\"Note:\n",
    "\n",
    "x is not None ensures False and 0 are retained (unlike if x).\"\"\"\n",
    "\n"
   ]
  },
  {
   "cell_type": "code",
   "execution_count": 26,
   "id": "cd8d020c",
   "metadata": {},
   "outputs": [
    {
     "name": "stdout",
     "output_type": "stream",
     "text": [
      "['banana', 'cherry']\n"
     ]
    },
    {
     "data": {
      "text/plain": [
       "'Key Function:\\n\\nlen(word) > min_length filters words by character count.\\n'"
      ]
     },
     "execution_count": 26,
     "metadata": {},
     "output_type": "execute_result"
    }
   ],
   "source": [
    "#Q-6) Select Words Longer Than a Specified Length\n",
    "\n",
    "words = [\"apple\", \"banana\", \"cherry\", \"date\", \"fig\"]\n",
    "min_length = 5\n",
    "long_words = list(filter(lambda word: len(word) > min_length, words))\n",
    "print(long_words)  # Output: [\"banana\", \"cherry\"]\n",
    "\"\"\"Key Function:\n",
    "\n",
    "len(word) > min_length filters words by character count.\n",
    "\"\"\"\n"
   ]
  },
  {
   "cell_type": "code",
   "execution_count": 28,
   "id": "e3ed1a2a",
   "metadata": {},
   "outputs": [
    {
     "name": "stdout",
     "output_type": "stream",
     "text": [
      "[12, 19]\n"
     ]
    },
    {
     "data": {
      "text/plain": [
       "'\\nExplanation:\\n\\nThe lambda function checks if each value exceeds threshold.'"
      ]
     },
     "execution_count": 28,
     "metadata": {},
     "output_type": "execute_result"
    }
   ],
   "source": [
    "#q-7) Select Elements Greater Than a Threshold\n",
    "\n",
    "values = [12, 5, 8, 19, 3, 7]\n",
    "threshold = 10\n",
    "result = list(filter(lambda x: x > threshold, values))\n",
    "print(result)  # Output: [12, 19]\n",
    "\"\"\"\n",
    "Explanation:\n",
    "\n",
    "The lambda function checks if each value exceeds threshold.\"\"\""
   ]
  },
  {
   "cell_type": "markdown",
   "id": "18db4a92",
   "metadata": {},
   "source": [
    "# Recurssion"
   ]
  },
  {
   "cell_type": "markdown",
   "id": "033a382f",
   "metadata": {},
   "source": [
    "#Q-1)Concept of Recursion in Python\n",
    "\"\"\"Recursion is a technique where a function calls itself directly or indirectly to solve a problem by breaking it into smaller subproblems.\n",
    "Key Components:\n",
    "\n",
    "Base Case: Condition to stop recursion (avoids infinite calls).\n",
    "\n",
    "Recursive Case: Function calls itself with a modified input.\n",
    "\n",
    "Difference from Iteration:\n",
    "\n",
    "Recursion\tIteration\n",
    "Uses function calls (stack frames).\tUses loops (for, while).\n",
    "Can be more elegant for problems like tree traversals.\tGenerally more memory-efficient.\n",
    "Risk of stack overflow for deep recursion.\tNo stack overflow risk.\"\"\"\n"
   ]
  },
  {
   "cell_type": "code",
   "execution_count": 30,
   "id": "22d30dc7",
   "metadata": {},
   "outputs": [
    {
     "name": "stdout",
     "output_type": "stream",
     "text": [
      "120\n"
     ]
    },
    {
     "data": {
      "text/plain": [
       "'Explanation:\\n\\nBase case: factorial(1) returns 1.\\n\\nRecursive case: factorial(5) = 5 * factorial(4), and so on.\\n'"
      ]
     },
     "execution_count": 30,
     "metadata": {},
     "output_type": "execute_result"
    }
   ],
   "source": [
    "#Q-2)Factorial Using Recursion\n",
    "\n",
    "def factorial(n):\n",
    "    if n == 0 or n == 1:  # Base case\n",
    "        return 1\n",
    "    else:\n",
    "        return n * factorial(n - 1)  # Recursive case\n",
    "\n",
    "print(factorial(5))  # Output: 120\n",
    "\"\"\"Explanation:\n",
    "\n",
    "Base case: factorial(1) returns 1.\n",
    "\n",
    "Recursive case: factorial(5) = 5 * factorial(4), and so on.\n",
    "\"\"\"\n"
   ]
  },
  {
   "cell_type": "code",
   "execution_count": 32,
   "id": "d46bfe16",
   "metadata": {},
   "outputs": [
    {
     "name": "stdout",
     "output_type": "stream",
     "text": [
      "8\n"
     ]
    },
    {
     "data": {
      "text/plain": [
       "'Note: Inefficient for large n (use memoization or iteration).\\n'"
      ]
     },
     "execution_count": 32,
     "metadata": {},
     "output_type": "execute_result"
    }
   ],
   "source": [
    "#Q-3)nth Fibonacci Number\n",
    "\n",
    "def fibonacci(n):\n",
    "    if n <= 1:  # Base case\n",
    "        return n\n",
    "    else:\n",
    "        return fibonacci(n - 1) + fibonacci(n - 2)  # Recursive case\n",
    "\n",
    "print(fibonacci(6))  # Output: 8 (0, 1, 1, 2, 3, 5, 8)\n",
    "\"\"\"Note: Inefficient for large n (use memoization or iteration).\n",
    "\"\"\"\n"
   ]
  },
  {
   "cell_type": "code",
   "execution_count": 33,
   "id": "60225d39",
   "metadata": {},
   "outputs": [
    {
     "name": "stdout",
     "output_type": "stream",
     "text": [
      "6\n"
     ]
    },
    {
     "data": {
      "text/plain": [
       "'Explanation:\\n\\nlist_sum([1, 2, 3]) = 1 + list_sum([2, 3]) → 1 + (2 + list_sum([3])) → 1 + 2 + 3 + 0.\\n'"
      ]
     },
     "execution_count": 33,
     "metadata": {},
     "output_type": "execute_result"
    }
   ],
   "source": [
    "#Q-4)Sum of List Elements\n",
    "\n",
    "def list_sum(lst):\n",
    "    if not lst:  # Base case: empty list\n",
    "        return 0\n",
    "    else:\n",
    "        return lst[0] + list_sum(lst[1:])  # Recursive case\n",
    "\n",
    "print(list_sum([1, 2, 3]))  # Output: 6\n",
    "\"\"\"Explanation:\n",
    "\n",
    "list_sum([1, 2, 3]) = 1 + list_sum([2, 3]) → 1 + (2 + list_sum([3])) → 1 + 2 + 3 + 0.\n",
    "\"\"\"\n"
   ]
  },
  {
   "cell_type": "code",
   "execution_count": 35,
   "id": "d035ef3c",
   "metadata": {},
   "outputs": [
    {
     "name": "stdout",
     "output_type": "stream",
     "text": [
      "120\n"
     ]
    }
   ],
   "source": [
    "#Q-5)Preventing Stack Overflow\n",
    "\"\"\"\n",
    "Base Case: Ensure it’s reachable (e.g., decrementing n in factorial).\n",
    "\n",
    "Tail Recursion: Optimize to reuse stack frames (Python doesn’t support this natively).\n",
    "\n",
    "Iteration: Convert recursive logic to loops for large inputs.\n",
    "\n",
    "Example (Tail Recursion-like):\n",
    "\n",
    "\"\"\"\n",
    "def factorial(n, acc=1):\n",
    "    if n == 0:\n",
    "        return acc\n",
    "    else:\n",
    "        return factorial(n - 1, acc * n)  # Tail-recursive (but no optimization in Python)\n",
    "a=factorial(5)\n",
    "print(a)"
   ]
  },
  {
   "cell_type": "code",
   "execution_count": 36,
   "id": "bbe0b272",
   "metadata": {},
   "outputs": [
    {
     "name": "stdout",
     "output_type": "stream",
     "text": [
      "6\n",
      "olleh\n",
      "8\n"
     ]
    }
   ],
   "source": [
    "#Q-6)GCD Using Euclidean Algorithm\n",
    "\n",
    "def gcd(a, b):\n",
    "    if b == 0:  # Base case\n",
    "        return a\n",
    "    else:\n",
    "        return gcd(b, a % b)  # Recursive case\n",
    "\n",
    "print(gcd(48, 18))  # Output: 6\n",
    "\"\"\"Explanation:\n",
    "\n",
    "Repeatedly replaces (a, b) with (b, a % b) until b = 0.\n",
    "\"\"\"\n",
    "#Q-7) Reverse a String\n",
    "\n",
    "def reverse_string(s):\n",
    "    if len(s) <= 1:  # Base case\n",
    "        return s\n",
    "    else:\n",
    "        return reverse_string(s[1:]) + s[0]  # Recursive case\n",
    "\n",
    "print(reverse_string(\"hello\"))  # Output: \"olleh\"\n",
    "\"\"\"\"Explanation:\n",
    "\n",
    "reverse(\"hello\") = reverse(\"ello\") + \"h\" → \"olle\" + \"h\" = \"olleh\".\n",
    "\"\"\"\n",
    "#Q-8)Power of a Number (x^n)\n",
    "\n",
    "def power(x, n):\n",
    "    if n == 0:  # Base case\n",
    "        return 1\n",
    "    else:\n",
    "        return x * power(x, n - 1)  # Recursive case\n",
    "\n",
    "print(power(2, 3))  # Output: 8\n",
    "\"\"\"Optimization (O(log n)):\n",
    "\"\"\"\n",
    "def power(x, n):\n",
    "    if n == 0:\n",
    "        return 1\n",
    "    elif n % 2 == 0:\n",
    "        return power(x * x, n // 2)\n",
    "    else:\n",
    "        return x * power(x, n - 1)"
   ]
  },
  {
   "cell_type": "code",
   "execution_count": 37,
   "id": "646f6b92",
   "metadata": {},
   "outputs": [
    {
     "name": "stdout",
     "output_type": "stream",
     "text": [
      "['abc', 'acb', 'bac', 'bca', 'cab', 'cba']\n",
      "True\n",
      "[[2, 3], [1, 3], [1, 2]]\n"
     ]
    },
    {
     "data": {
      "text/plain": [
       "'Explanation:\\n\\nIncludes/excludes the first element to generate combinations of size k.'"
      ]
     },
     "execution_count": 37,
     "metadata": {},
     "output_type": "execute_result"
    }
   ],
   "source": [
    "#Q-9)String Permutations\n",
    "\n",
    "def permutations(s):\n",
    "    if len(s) <= 1:  # Base case\n",
    "        return [s]\n",
    "    else:\n",
    "        perms = []\n",
    "        for i, char in enumerate(s):\n",
    "            for perm in permutations(s[:i] + s[i+1:]):\n",
    "                perms.append(char + perm)\n",
    "        return perms\n",
    "\n",
    "print(permutations(\"abc\"))  # Output: ['abc', 'acb', 'bac', 'bca', 'cab', 'cba']\n",
    "\"\"\"Explanation:\n",
    "\n",
    "For each character, recursively permute the remaining characters.\n",
    "\"\"\"\n",
    "#Q-10) Check Palindrome\n",
    "\n",
    "def is_palindrome(s):\n",
    "    if len(s) <= 1:  # Base case\n",
    "        return True\n",
    "    else:\n",
    "        return s[0] == s[-1] and is_palindrome(s[1:-1])  # Recursive case\n",
    "\n",
    "print(is_palindrome(\"madam\"))  # Output: True\n",
    "\"\"\"Explanation:\n",
    "\n",
    "Compares first/last characters and checks the substring recursively.\n",
    "\"\"\"\n",
    "#Q-11. Combinations of List Elements\n",
    "\n",
    "def combinations(lst, k):\n",
    "    if k == 0:  # Base case\n",
    "        return [[]]\n",
    "    elif not lst:  # Base case\n",
    "        return []\n",
    "    else:\n",
    "        return combinations(lst[1:], k) + [ [lst[0]] + c for c in combinations(lst[1:], k - 1) ]\n",
    "\n",
    "print(combinations([1, 2, 3], 2))  # Output: [[2, 3], [1, 3], [1, 2]]\n",
    "\"\"\"Explanation:\n",
    "\n",
    "Includes/excludes the first element to generate combinations of size k.\"\"\""
   ]
  },
  {
   "cell_type": "markdown",
   "id": "9451ebb9",
   "metadata": {},
   "source": [
    "# BASICS OF FUNCTIONS"
   ]
  },
  {
   "cell_type": "code",
   "execution_count": 46,
   "id": "58546371",
   "metadata": {},
   "outputs": [
    {
     "name": "stdout",
     "output_type": "stream",
     "text": [
      "Hello, Alice!\n",
      "12\n",
      "20\n"
     ]
    }
   ],
   "source": [
    "#Q-1. What is a Function in Python?\n",
    "\"\"\"A function is a reusable block of code that performs a specific task.\n",
    "Why use functions?\n",
    "\n",
    "Reusability: Avoid repeating the same code.\n",
    "\n",
    "Modularity: Break programs into smaller, manageable parts.\n",
    "\n",
    "Readability: Improve code organization and clarity.\n",
    "\"\"\"\n",
    "#Q-2. Defining a Function\n",
    "def function_name(parameters):\n",
    "    # Function body\n",
    "    return result\n",
    "def greet(name):\n",
    "    return f\"Hello, {name}!\"\n",
    "print(greet(\"Alice\"))  # Output: Hello, Alice!\n",
    "#Q-3. Function Definition vs. Function Call\n",
    "\"\"\"Function Definition\tFunction Call\n",
    "Declares the function and its logic.\tExecutes the function with arguments.\n",
    "\"\"\"\n",
    "def add(a, b): return a + b\t\n",
    "#Q-4. Sum of Two Numbers (Example)\n",
    "\n",
    "def add(a, b):\n",
    "    return a + b\n",
    "\n",
    "result = add(5, 7)\n",
    "print(result)  # Output: 12\n",
    "\n",
    "#Q-5. Function Signature\n",
    "'''A function signature defines:\n",
    "\n",
    "Function name (add)\n",
    "\n",
    "Parameters (a, b)\n",
    "\n",
    "Return type (optional in Python, but used in type hints)\n",
    "'''\n",
    "def multiply(x: float, y: float) -> float:\n",
    "    return x * y\n",
    "#Q-6. Function Returning Product\n",
    "\n",
    "def multiply(a, b):\n",
    "    return a * b\n",
    "\n",
    "print(multiply(4, 5))  # Output: 20"
   ]
  },
  {
   "cell_type": "markdown",
   "id": "4ccf9e4e",
   "metadata": {},
   "source": [
    "\n",
    "# Function Parameters and Arguments"
   ]
  },
  {
   "cell_type": "code",
   "execution_count": 47,
   "id": "077d84b4",
   "metadata": {},
   "outputs": [
    {
     "name": "stdout",
     "output_type": "stream",
     "text": [
      "Hello, Guest!\n",
      "Hello, Alice!\n"
     ]
    }
   ],
   "source": [
    "\n",
    "#Q-7. Formal Parameters vs. Actual Arguments\n",
    "'''Formal Parameters\tActual Arguments\n",
    "Variables in the function definition.\tValues passed during the function call.\n",
    "\n",
    "def greet(name): (name is a parameter)\tExample: greet(\"Alice\") (\"Alice\" is an argument)'''\n",
    "#Q-8. Default Argument Values\n",
    "def greet(name=\"Guest\"):\n",
    "    return f\"Hello, {name}!\"\n",
    "\n",
    "print(greet())          # Output: Hello, Guest! (uses default)\n",
    "print(greet(\"Alice\"))   # Output: Hello, Alice!\n",
    "\n"
   ]
  },
  {
   "cell_type": "code",
   "execution_count": 48,
   "id": "f234aab9",
   "metadata": {},
   "outputs": [
    {
     "name": "stdout",
     "output_type": "stream",
     "text": [
      "I have a dog named Max.\n"
     ]
    }
   ],
   "source": [
    "#Q-9. Keyword Arguments\n",
    "\"\"\"Pass arguments by parameter name (order doesn’t matter).\n",
    "\"\"\"\n",
    "def describe_pet(animal, name):\n",
    "    print(f\"I have a {animal} named {name}.\")\n",
    "\n",
    "describe_pet(name=\"Max\", animal=\"dog\")  # Output: I have a dog named Max.\n"
   ]
  },
  {
   "cell_type": "code",
   "execution_count": 43,
   "id": "13628044",
   "metadata": {},
   "outputs": [
    {
     "name": "stdout",
     "output_type": "stream",
     "text": [
      "6\n"
     ]
    },
    {
     "data": {
      "text/plain": [
       "'Explanation:\\n\\n*args collects extra positional arguments as a tuple.\\n'"
      ]
     },
     "execution_count": 43,
     "metadata": {},
     "output_type": "execute_result"
    }
   ],
   "source": [
    "#Q-10. Variable Number of Arguments (*args)\n",
    "\n",
    "def sum_all(*args):\n",
    "    return sum(args)\n",
    "\n",
    "print(sum_all(1, 2, 3))  # Output: 6\n",
    "\"\"\"Explanation:\n",
    "\n",
    "*args collects extra positional arguments as a tuple.\n",
    "\"\"\"\n"
   ]
  },
  {
   "cell_type": "code",
   "execution_count": 45,
   "id": "2dcf11e6",
   "metadata": {},
   "outputs": [
    {
     "name": "stdout",
     "output_type": "stream",
     "text": [
      "name: Alice\n",
      "age: 25\n"
     ]
    }
   ],
   "source": [
    "#Q-11. *args and **kwargs\n",
    "\"\"\" *args\t**kwargs\n",
    "Collects extra positional arguments as a tuple.\tCollects extra keyword arguments as a dictionary.\n",
    "Example: def func(*args):\tExample: def func(**kwargs):\n",
    "Example (**kwargs):\n",
    "\n",
    "\"\"\"\n",
    "def user_details(**kwargs):\n",
    "    for key, value in kwargs.items():\n",
    "        print(f\"{key}: {value}\")\n",
    "\n",
    "user_details(name=\"Alice\", age=25)\n",
    "# Output:\n",
    "# name: Alice\n",
    "# age: 25"
   ]
  },
  {
   "cell_type": "markdown",
   "id": "352e742c",
   "metadata": {},
   "source": [
    "# RETURN VALUES AND SCOPING"
   ]
  },
  {
   "cell_type": "code",
   "execution_count": 49,
   "id": "01f8b4f8",
   "metadata": {},
   "outputs": [
    {
     "name": "stdout",
     "output_type": "stream",
     "text": [
      "8\n",
      "Hello, Alice!\n",
      "None\n",
      "10\n"
     ]
    },
    {
     "ename": "NameError",
     "evalue": "name 'y' is not defined",
     "output_type": "error",
     "traceback": [
      "\u001b[1;31m---------------------------------------------------------------------------\u001b[0m",
      "\u001b[1;31mNameError\u001b[0m                                 Traceback (most recent call last)",
      "Cell \u001b[1;32mIn[49], line 30\u001b[0m\n\u001b[0;32m     27\u001b[0m     \u001b[38;5;28mprint\u001b[39m(x)  \u001b[38;5;66;03m# Can access global x\u001b[39;00m\n\u001b[0;32m     29\u001b[0m foo()\n\u001b[1;32m---> 30\u001b[0m \u001b[38;5;28mprint\u001b[39m(\u001b[43my\u001b[49m)  \u001b[38;5;66;03m# Error: y is local to foo()\u001b[39;00m\n\u001b[0;32m     31\u001b[0m \u001b[38;5;66;03m#Q-3. Using global Keyword\u001b[39;00m\n\u001b[0;32m     32\u001b[0m \u001b[38;5;66;03m#Modify a global variable inside a function:\u001b[39;00m\n\u001b[0;32m     35\u001b[0m count \u001b[38;5;241m=\u001b[39m \u001b[38;5;241m0\u001b[39m\n",
      "\u001b[1;31mNameError\u001b[0m: name 'y' is not defined"
     ]
    }
   ],
   "source": [
    "#Q-1. The return Statement\n",
    "\"\"\"Purpose: Exits a function and optionally passes back a value.\n",
    "\n",
    "If no return, the function returns None.\n",
    "\n",
    "\"\"\"\n",
    "def add(a, b):\n",
    "    return a + b  # Returns the sum\n",
    "\n",
    "result = add(3, 5)\n",
    "print(result)  # Output: 8\n",
    "\n",
    "def greet(name):\n",
    "    print(f\"Hello, {name}!\")  # No return → returns None\n",
    "\n",
    "output = greet(\"Alice\")\n",
    "print(output)  # Output: None\n",
    "#Q-2. Variable Scope (Local vs. Global)\n",
    "\"\"\"Local Scope: Variables defined inside a function.\n",
    "\n",
    "Global Scope: Variables defined outside functions (accessible everywhere).\n",
    "\"\"\"\n",
    "x = 10  # Global variable\n",
    "\n",
    "def foo():\n",
    "    y = 5  # Local variable\n",
    "    print(x)  # Can access global x\n",
    "\n",
    "foo()\n",
    "print(y)  # Error: y is local to foo()\n",
    "#Q-3. Using global Keyword\n",
    "#Modify a global variable inside a function:\n",
    "\n",
    "\n",
    "count = 0\n",
    "\n",
    "def increment():\n",
    "    global count\n",
    "    count += 1\n",
    "\n",
    "increment()\n",
    "print(count)  # Output: 1"
   ]
  },
  {
   "cell_type": "code",
   "execution_count": 50,
   "id": "8b1da039",
   "metadata": {},
   "outputs": [
    {
     "name": "stdout",
     "output_type": "stream",
     "text": [
      "120\n",
      "10\n",
      "16\n",
      "[(3, 1), (5, 2), (1, 4)]\n"
     ]
    }
   ],
   "source": [
    "#Q-4. Factorial Function with return\n",
    "\n",
    "def factorial(n):\n",
    "    if n == 0:\n",
    "        return 1\n",
    "    else:\n",
    "        return n * factorial(n - 1)\n",
    "\n",
    "print(factorial(5))  # Output: 120\n",
    "#Q-5. Accessing Outer Variables\n",
    "#Global variables are accessible but not modifiable without global.\n",
    "\n",
    "#Nonlocal variables (in nested functions) use nonlocal.\n",
    "outer_var = 10\n",
    "\n",
    "def access_outer():\n",
    "    print(outer_var)  # Works (read-only)\n",
    "\n",
    "access_outer()\n",
    "\"\"\"Lambda Functions and Higher-Order Functions\n",
    "\"\"\"\n",
    "#Q-6. Lambda Functions\n",
    "\"\"\"Anonymous functions defined with lambda.\n",
    "\n",
    "Used for short, one-time operations.\n",
    "\"\"\"\n",
    "square = lambda x: x ** 2\n",
    "print(square(4))  # Output: 16\n",
    "#Q-7. Sort List of Tuples by Second Element\n",
    "\n",
    "data = [(1, 4), (3, 1), (5, 2)]\n",
    "sorted_data = sorted(data, key=lambda x: x[1])\n",
    "print(sorted_data)  # Output: [(3, 1), (5, 2), (1, 4)]\n"
   ]
  },
  {
   "cell_type": "code",
   "execution_count": 51,
   "id": "1b977c16",
   "metadata": {},
   "outputs": [
    {
     "name": "stdout",
     "output_type": "stream",
     "text": [
      "[2, 4, 6]\n",
      "[1, 8, 27]\n"
     ]
    }
   ],
   "source": [
    "#Q-8. Higher-Order Functions\n",
    "\"\"\"Functions that take other functions as arguments or return them.\n",
    "\"\"\"\n",
    "def apply_func(func, lst):\n",
    "    return [func(x) for x in lst]\n",
    "\n",
    "print(apply_func(lambda x: x * 2, [1, 2, 3]))  # Output: [2, 4, 6]\n",
    "#Q-9. Apply Function to List Elements\n",
    "def process_list(numbers, func):\n",
    "    return [func(num) for num in numbers]\n",
    "\n",
    "print(process_list([1, 2, 3], lambda x: x ** 3))  # Output: [1, 8, 27]\n"
   ]
  },
  {
   "cell_type": "markdown",
   "id": "2e1c440b",
   "metadata": {},
   "source": [
    "# BUILT IN FUNCTIONS"
   ]
  },
  {
   "cell_type": "code",
   "execution_count": 52,
   "id": "f279f88f",
   "metadata": {},
   "outputs": [
    {
     "name": "stdout",
     "output_type": "stream",
     "text": [
      "4\n",
      "8\n",
      "1\n",
      "[1, 4, 9]\n"
     ]
    }
   ],
   "source": [
    "#Q-10. len(), max(), min()\n",
    "#len(): Returns the length of an iterable.\n",
    "\n",
    "#max()/min(): Returns the largest/smallest element.\n",
    "numbers = [5, 2, 8, 1]\n",
    "print(len(numbers))  # Output: 4\n",
    "print(max(numbers))  # Output: 8\n",
    "print(min(numbers))  # Output: 1\n",
    "#Q-11. map() Function\n",
    "#Applies a function to all items in an iterable.\n",
    "\n",
    "nums = [1, 2, 3]\n",
    "squared = list(map(lambda x: x ** 2, nums))\n",
    "print(squared)  # Output: [1, 4, 9]"
   ]
  },
  {
   "cell_type": "code",
   "execution_count": 53,
   "id": "94b8bfce",
   "metadata": {},
   "outputs": [
    {
     "name": "stdout",
     "output_type": "stream",
     "text": [
      "[2, 4]\n",
      "24\n"
     ]
    }
   ],
   "source": [
    "#Q-12. filter() Function\n",
    "#Selects elements where a function returns True.\n",
    "numbers = [1, 2, 3, 4, 5]\n",
    "evens = list(filter(lambda x: x % 2 == 0, numbers))\n",
    "print(evens)  # Output: [2, 4]\n",
    "#Q-13. reduce() Function\n",
    "#Applies a rolling computation to a sequence.\n",
    "from functools import reduce\n",
    "\n",
    "numbers = [2, 3, 4]\n",
    "product = reduce(lambda x, y: x * y, numbers)\n",
    "print(product)  # Output: 24\n"
   ]
  },
  {
   "cell_type": "markdown",
   "id": "90f6eecc",
   "metadata": {},
   "source": [
    "# FUNCTION DOCUMENTATION AND BEST PRACTICE"
   ]
  },
  {
   "cell_type": "code",
   "execution_count": 55,
   "id": "684a2edb",
   "metadata": {},
   "outputs": [],
   "source": [
    "#Q-1.Docstrings in Python Functions\n",
    "\"\"\"Purpose:\n",
    "\n",
    "Provide clear, human-readable documentation for functions.\n",
    "\n",
    "Explain what the function does, its parameters, return values, and possible exceptions.\n",
    "\n",
    "Accessible via help(function_name) or function_name.__doc__.\n",
    "\n",
    "How to Write Docstrings:\n",
    "\n",
    "Use triple quotes (Docstring).\n",
    "\n",
    "Follow PEP 257 conventions.\n",
    "\"\"\"\n",
    "def calculate_area(length, width):\n",
    "    \"\"\"\n",
    "    Calculate the area of a rectangle.\n",
    "\n",
    "    Args:\n",
    "        length (float): The length of the rectangle.\n",
    "        width (float): The width of the rectangle.\n",
    "\n",
    "    Returns:\n",
    "        float: The computed area (length × width).\n",
    "\n",
    "    Raises:\n",
    "        ValueError: If either length or width is negative.\n",
    "    \"\"\"\n",
    "    if length < 0 or width < 0:\n",
    "        raise ValueError(\"Length and width must be non-negative.\")\n",
    "    return length * width\n",
    "\n",
    "def add_numbers(a, b):\n",
    "    \"\"\"\n",
    "    Add two numbers.\n",
    "\n",
    "    Parameters\n",
    "    ----------\n",
    "    a : int or float\n",
    "        First number.\n",
    "    b : int or float\n",
    "        Second number.\n",
    "\n",
    "    Returns\n",
    "    -------\n",
    "    int or float\n",
    "        Sum of `a` and `b`.\n",
    "    \"\"\"\n",
    "    return a + b\n"
   ]
  },
  {
   "cell_type": "markdown",
   "id": "60036549",
   "metadata": {},
   "source": [
    "#Q-2)Best Practices for Naming Functions and Variables\n",
    "A. Naming Conventions\n",
    "Type\tConvention\tExample\n",
    "Functions\tlowercase_with_underscores (snake_case)\tcalculate_total()\n",
    "Variables\tlowercase_with_underscores (snake_case)\tuser_age\n",
    "Constants\tUPPERCASE_WITH_UNDERSCORES\tMAX_CONNECTIONS\n",
    "Classes\tPascalCase (CapitalizedWords)\tUserProfile\n",
    "Private Variables\t_single_leading_underscore\t_internal_data\n",
    "B. Guidelines\n",
    "Be Descriptive:\n",
    "\n",
    "❌ Bad: def x(a, b):\n",
    "\n",
    "✅ Good: def calculate_discount(price, discount_rate):\n",
    "\n",
    "Avoid Abbreviations:\n",
    "\n",
    "❌ Bad: def calc_tot()\n",
    "\n",
    "✅ Good: def calculate_total()\n",
    "\n",
    "Use Verbs for Functions:\n",
    "\n",
    "get_user_data(), validate_input(), save_to_database()\n",
    "\n",
    "Avoid Single-Letter Names (except in loops):\n",
    "\n",
    "❌ Bad: x = 10 (unless in for x in range(10))\n",
    "\n",
    "✅ Good: user_count = 10\n",
    "\n",
    "Follow PEP 8 Standards:\n",
    "\n",
    "Functions: def compute_average():\n",
    "\n",
    "Variables: student_name = \"Alice\"\n",
    "\n",
    "Constants: MAX_RETRIES = 3"
   ]
  },
  {
   "cell_type": "markdown",
   "id": "4558ba2e",
   "metadata": {},
   "source": [
    "# Que-3.\n",
    "Additional Best Practices\n",
    "A. Keep Functions Small and Focused\n",
    "A function should do one thing and do it well.\n",
    "\n",
    "If a function exceeds 20-30 lines, consider splitting it.\n",
    "\n",
    "B. Use Type Hints (Python 3.5+)\n",
    "python\n",
    "def greet(name: str) -> str:\n",
    "    return f\"Hello, {name}!\"\n",
    "C. Avoid Global Variables\n",
    "Prefer passing arguments instead of relying on global state.\n",
    "\n",
    "D. Handle Edge Cases\n",
    "Check for invalid inputs (e.g., negative numbers, empty strings).\n",
    "\n",
    "Raise exceptions (ValueError, TypeError) when necessary."
   ]
  },
  {
   "cell_type": "code",
   "execution_count": null,
   "id": "710a03f6",
   "metadata": {},
   "outputs": [],
   "source": []
  },
  {
   "cell_type": "code",
   "execution_count": null,
   "id": "fe3c53e7",
   "metadata": {},
   "outputs": [],
   "source": []
  }
 ],
 "metadata": {
  "kernelspec": {
   "display_name": "Python 3",
   "language": "python",
   "name": "python3"
  },
  "language_info": {
   "codemirror_mode": {
    "name": "ipython",
    "version": 3
   },
   "file_extension": ".py",
   "mimetype": "text/x-python",
   "name": "python",
   "nbconvert_exporter": "python",
   "pygments_lexer": "ipython3",
   "version": "3.12.4"
  }
 },
 "nbformat": 4,
 "nbformat_minor": 5
}
